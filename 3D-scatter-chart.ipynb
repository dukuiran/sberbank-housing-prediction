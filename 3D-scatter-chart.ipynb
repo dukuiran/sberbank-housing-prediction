{
 "cells": [
  {
   "cell_type": "code",
   "execution_count": null,
   "metadata": {
    "collapsed": true
   },
   "outputs": [],
   "source": [
    "    # These lines are comments\n",
    "    # Initial setup from an online python notebook tutorial is below. \n",
    "    # Note the first line \"%matplotlib inline\" means plot appear in this page without a new opened window.\n",
    "    # Two solutions 1. use: \"%matplotlib notebook\" graphs appear dynamic in the notebook.\n",
    "    #               2. use: \"%matplotlib\" (only) graphs appear dynamic in separate window. \n",
    "    #    ( 2. is the best solution for detailed graphs/plots. )\n",
    "    #inline \n",
    "    # -*- coding: utf-8 -*-\n",
    "    \n",
    "    %matplotlib qt5\n",
    "    import pandas as pd\n",
    "    import numpy as np\n",
    "    import matplotlib as mpl\n",
    "    import matplotlib.pyplot as plt\n",
    "    from mpl_toolkits.mplot3d import Axes3D\n",
    "\n",
    "    pd.set_option('html',False)\n",
    "    pd.set_option('max_columns',30)\n",
    "    pd.set_option('max_rows',10)\n",
    "\n",
    "\n",
    "    # What follows is a copy of the 3D plot example code.\n",
    "    # Data is randomly generated so there is no external data import.\n",
    "\n",
    "    def randrange(n, vmin, vmax):\n",
    "        return (vmax-vmin)*np.random.rand(n) + vmin\n",
    "\n",
    "    fig = plt.figure()\n",
    "    ax = fig.add_subplot(111, projection='3d')\n",
    "    n = 100\n",
    "    for c, m, zl, zh in [('r', 'o', -60, -25), ('b', '^', -30, -5)]:\n",
    "        xs = randrange(n, 23, 50)\n",
    "        #print (\"xs:\",xs)\n",
    "        ys = randrange(n, 0, 100)\n",
    "        #print (\"ys:\",ys)\n",
    "        zs = randrange(n, zl, zh)\n",
    "        #print (\"zs:\",zs)\n",
    "        #print (c,m)\n",
    "        ax.scatter(xs, ys, zs, c=c, marker=m)\n",
    "\n",
    "    ax.set_xlabel('traffic')\n",
    "    ax.set_ylabel('value')\n",
    "    ax.set_zlabel('peroid')\n",
    "\n",
    "    plt.show()"
   ]
  },
  {
   "cell_type": "code",
   "execution_count": null,
   "metadata": {
    "collapsed": true
   },
   "outputs": [],
   "source": [
    "%matplotlib qt5\n",
    "import pylab as plt\n",
    "from mpl_toolkits.mplot3d import Axes3D\n",
    "import numpy as np\n",
    "\n",
    "my_data = np.random.rand(6500,3)  # toy 3D points\n",
    "\n",
    "fig = plt.figure()\n",
    "ax = Axes3D(plt.gcf())\n",
    "ax.scatter(my_data[:,0],my_data[:,1],my_data[:,2])\n",
    "plt.show()"
   ]
  }
 ],
 "metadata": {
  "kernelspec": {
   "display_name": "Python [conda root]",
   "language": "python",
   "name": "conda-root-py"
  },
  "language_info": {
   "codemirror_mode": {
    "name": "ipython",
    "version": 3
   },
   "file_extension": ".py",
   "mimetype": "text/x-python",
   "name": "python",
   "nbconvert_exporter": "python",
   "pygments_lexer": "ipython3",
   "version": "3.5.2"
  }
 },
 "nbformat": 4,
 "nbformat_minor": 1
}
