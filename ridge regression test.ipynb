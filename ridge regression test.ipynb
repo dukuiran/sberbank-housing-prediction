{
 "cells": [
  {
   "cell_type": "code",
   "execution_count": 19,
   "metadata": {
    "collapsed": false
   },
   "outputs": [
    {
     "name": "stdout",
     "output_type": "stream",
     "text": [
      "\n",
      "author ： duanxxnj@163.com\n",
      "time : 2016-06-03-14-34\n",
      "\n",
      "脊回归测试代码\n",
      "这里需要先生成一个线性相关的设计矩阵X，再使用脊回归对其进行建模\n",
      "脊回归中最重要的就是参数alpha的选择，本例显示了不同的alpha下\n",
      "模型参数omega不同的结果\n",
      "\n",
      "\n",
      "Using matplotlib backend: Qt5Agg\n",
      "设计矩阵为：\n",
      "[[ 1.          0.5         0.33333333  0.25        0.2       ]\n",
      " [ 0.5         0.33333333  0.25        0.2         0.16666667]\n",
      " [ 0.33333333  0.25        0.2         0.16666667  0.14285714]\n",
      " [ 0.25        0.2         0.16666667  0.14285714  0.125     ]\n",
      " [ 0.2         0.16666667  0.14285714  0.125       0.11111111]\n",
      " [ 0.16666667  0.14285714  0.125       0.11111111  0.1       ]\n",
      " [ 0.14285714  0.125       0.11111111  0.1         0.09090909]\n",
      " [ 0.125       0.11111111  0.1         0.09090909  0.08333333]\n",
      " [ 0.11111111  0.1         0.09090909  0.08333333  0.07692308]\n",
      " [ 0.1         0.09090909  0.08333333  0.07692308  0.07142857]]\n"
     ]
    },
    {
     "name": "stderr",
     "output_type": "stream",
     "text": [
      "C:\\Users\\Administrator\\Anaconda3\\lib\\site-packages\\matplotlib\\cbook.py:136: MatplotlibDeprecationWarning: The set_color_cycle attribute was deprecated in version 1.5. Use set_prop_cycle instead.\n",
      "  warnings.warn(message, mplDeprecation, stacklevel=1)\n"
     ]
    }
   ],
   "source": [
    "#!/usr/bin/python\n",
    "# -*- coding: utf-8 -*-\n",
    "\n",
    "\"\"\"\n",
    "author ： duanxxnj@163.com\n",
    "time : 2016-06-03-14-34\n",
    "\n",
    "脊回归测试代码\n",
    "这里需要先生成一个线性相关的设计矩阵X，再使用脊回归对其进行建模\n",
    "脊回归中最重要的就是参数alpha的选择，本例显示了不同的alpha下\n",
    "模型参数omega不同的结果\n",
    "\n",
    "\"\"\"\n",
    "\n",
    "print(__doc__)\n",
    "%matplotlib\n",
    "import numpy as np\n",
    "import matplotlib.pyplot as plt\n",
    "from sklearn import linear_model\n",
    "\n",
    "# 这里设计矩阵X是一个希尔伯特矩阵（Hilbert matrix）\n",
    "# 其元素A（i,j）=1(i + j -1),i和j分别为其行标和列标\n",
    "# 希尔伯特矩阵是一种数学变换矩阵，正定，且高度病态\n",
    "# 即，任何一个元素发生一点变动，整个矩阵的行列式的值和逆矩阵都会发生巨大变化\n",
    "# 这里设计矩阵是一个10x5的矩阵，即有10个样本，5个变量\n",
    "X = 1. / (np.arange(1, 6) + np.arange(0, 10)[:, np.newaxis])\n",
    "y = np.arange(10,20)\n",
    "# y = np.ones(10)\n",
    "print ('设计矩阵为：')\n",
    "print (X)\n",
    "\n",
    "# alpha 取值为10^（-10）到10^（-2）之间的连续的200个值\n",
    "n_alphas = 200\n",
    "alphas = np.logspace(-10, -2, n_alphas)\n",
    "# print ('\\n alpha的值为：')\n",
    "# print (alphas)\n",
    "\n",
    "# 初始化一个Ridge Regression\n",
    "clf = linear_model.Ridge()  #fit_intercept=False\n",
    "\n",
    "# 参数矩阵，即每一个alpha对于的参数所组成的矩阵\n",
    "coefs = []\n",
    "score = []\n",
    "# intercepts=[]\n",
    "# 根据不同的alpha训练出不同的模型参数\n",
    "for a in alphas:\n",
    "    clf.set_params(alpha=a)\n",
    "    clf.fit(X, y)\n",
    "#     print('alpha:',clf.coef_)\n",
    "#     print('intercept:',clf.intercept_)\n",
    "    coefs.append(clf.coef_)\n",
    "    score.append(clf.score(X, y))\n",
    "#     intercepts.append(clf.intercept_)\n",
    "\n",
    "#获得绘图句柄\n",
    "# ax = plt.gca()\n",
    "# # 参数中每一个维度使用一个颜色表示\n",
    "# ax.set_color_cycle(['b', 'r', 'g', 'c', 'k'])\n",
    "\n",
    "# # 绘制alpha和对应的参数之间的关系图\n",
    "# ax.plot(alphas, coefs)\n",
    "# ax.set_xscale('log')    #x轴使用对数表示\n",
    "# ax.set_xlim(ax.get_xlim()[::-1])  # 将x轴反转，便于显示\n",
    "# plt.grid()\n",
    "# plt.xlabel('alpha')\n",
    "# plt.ylabel('weights')\n",
    "# plt.title('Ridge coefficients as a function of the regularization')\n",
    "# plt.axis('tight')\n",
    "# plt.show()\n",
    "\n",
    "# intercept=plt.gca()\n",
    "# intercept.set_color_cycle(['b'])\n",
    "# intercept.plot(alphas, intercepts)\n",
    "# intercept.set_xscale('log')    #x轴使用对数表示\n",
    "# intercept.set_xlim(intercept.get_xlim()[::-1])  # 将x轴反转，便于显示\n",
    "# plt.grid()\n",
    "# plt.xlabel('alpha')\n",
    "# plt.ylabel('intercept')\n",
    "# plt.title('Ridge coefficients intercepts')\n",
    "# plt.axis('tight')\n",
    "# plt.show()\n",
    "\n",
    "scoreplot=plt.gca()\n",
    "scoreplot.set_color_cycle(['b'])\n",
    "scoreplot.plot(alphas, score)\n",
    "scoreplot.set_xscale('log')    #x轴使用对数表示\n",
    "scoreplot.set_xlim(scoreplot.get_xlim()[::-1])  # 将x轴反转，便于显示\n",
    "plt.grid()\n",
    "plt.xlabel('alpha')\n",
    "plt.ylabel('score')\n",
    "plt.title('Ridge coefficients score')\n",
    "plt.axis('tight')\n",
    "plt.show()\n",
    "\n"
   ]
  },
  {
   "cell_type": "code",
   "execution_count": 11,
   "metadata": {
    "collapsed": false
   },
   "outputs": [
    {
     "data": {
      "text/plain": [
       "0.89970705985721899"
      ]
     },
     "execution_count": 11,
     "metadata": {},
     "output_type": "execute_result"
    }
   ],
   "source": [
    "# weight=coefs[0]\n",
    "weight=[1,1,1,1,1,1,1,1,1,1]\n",
    "# weight.shape=(5,1)\n",
    "#weight=np.transpose(weight)\n",
    "clf.score(X, y,weight)   #, sample_weight=weight"
   ]
  },
  {
   "cell_type": "code",
   "execution_count": 16,
   "metadata": {
    "collapsed": false
   },
   "outputs": [
    {
     "data": {
      "text/plain": [
       "{'alpha': 0.01,\n",
       " 'copy_X': True,\n",
       " 'fit_intercept': True,\n",
       " 'max_iter': None,\n",
       " 'normalize': False,\n",
       " 'random_state': None,\n",
       " 'solver': 'auto',\n",
       " 'tol': 0.001}"
      ]
     },
     "execution_count": 16,
     "metadata": {},
     "output_type": "execute_result"
    }
   ],
   "source": [
    "clf.get_params(deep=True)"
   ]
  },
  {
   "cell_type": "code",
   "execution_count": 22,
   "metadata": {
    "collapsed": false
   },
   "outputs": [
    {
     "name": "stdout",
     "output_type": "stream",
     "text": [
      "alpha的数值 :  0.1\n",
      "参数的数值： [-4.10782032 -4.60216997 -3.80408554 -3.09188755 -2.54082523]\n"
     ]
    }
   ],
   "source": [
    "# 初始化一个Ridge Cross-Validation Regression\n",
    "clf = linear_model.RidgeCV()   #fit_intercept=False\n",
    "\n",
    "# 训练模型\n",
    "clf.fit(X, y)\n",
    "\n",
    "print ('alpha的数值 : ', clf.alpha_)\n",
    "print ('参数的数值：', clf.coef_)"
   ]
  },
  {
   "cell_type": "code",
   "execution_count": 23,
   "metadata": {
    "collapsed": false
   },
   "outputs": [
    {
     "data": {
      "text/plain": [
       "0.74324489503472224"
      ]
     },
     "execution_count": 23,
     "metadata": {},
     "output_type": "execute_result"
    }
   ],
   "source": [
    "clf.score(X,y)"
   ]
  },
  {
   "cell_type": "code",
   "execution_count": null,
   "metadata": {
    "collapsed": true
   },
   "outputs": [],
   "source": [
    "cross_validation"
   ]
  }
 ],
 "metadata": {
  "anaconda-cloud": {},
  "kernelspec": {
   "display_name": "Python [conda root]",
   "language": "python",
   "name": "conda-root-py"
  },
  "language_info": {
   "codemirror_mode": {
    "name": "ipython",
    "version": 3
   },
   "file_extension": ".py",
   "mimetype": "text/x-python",
   "name": "python",
   "nbconvert_exporter": "python",
   "pygments_lexer": "ipython3",
   "version": "3.5.2"
  }
 },
 "nbformat": 4,
 "nbformat_minor": 1
}
