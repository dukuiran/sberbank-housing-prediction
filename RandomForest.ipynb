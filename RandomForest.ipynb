{
 "cells": [
  {
   "cell_type": "code",
   "execution_count": 176,
   "metadata": {
    "collapsed": false,
    "scrolled": true
   },
   "outputs": [
    {
     "name": "stdout",
     "output_type": "stream",
     "text": [
      "['.git', '.ipynb_checkpoints', '3D-scatter-chart.ipynb', 'data_dictionary.txt', 'historical score.txt', 'historical_test_score.xlsx', 'macro.csv', 'out.csv', 'RandomForest.ipynb', 'ridge regression test.ipynb', 'ridgeCV.ipynb', 'ridge_plot.png', 'run_at_here.bat', 'sample_submission.csv', 'test.csv', 'train.csv', 'train_analysis.xlsx', '__MACOSX', '~$historical_test_score.xlsx', '~$train_analysis.xlsx']\n"
     ]
    }
   ],
   "source": [
    "import numpy as np # linear algebra\n",
    "import pandas as pd # data processing, CSV file I/O (e.g. pd.read_csv)\n",
    "import matplotlib.pyplot as plt\n",
    "import seaborn as sns\n",
    "import os\n",
    "# Input data files are available in the \"../input/\" directory.\n",
    "# For example, running this (by clicking run or pressing Shift+Enter) will list the files in the input directory\n",
    "\n",
    "from subprocess import check_output\n",
    "#print(check_output([\"dir\", \"../sberbank housing prediction\"],shell=True))   #print(check_output([\"ls\", \"../input\"]).decode(\"utf8\"))  适用于 POSIX-conforming systems\n",
    "#os.listdir()\n",
    "print(os.listdir())\n",
    "macro=pd.read_csv('macro.csv',parse_dates=['timestamp'])\n",
    "sample_submission=pd.read_csv('sample_submission.csv')\n",
    "test=pd.read_csv('test.csv',parse_dates=['timestamp'])\n",
    "train=pd.read_csv('train.csv',parse_dates=['timestamp'])\n"
   ]
  },
  {
   "cell_type": "code",
   "execution_count": 177,
   "metadata": {
    "collapsed": false,
    "scrolled": false
   },
   "outputs": [
    {
     "name": "stderr",
     "output_type": "stream",
     "text": [
      "C:\\Users\\Administrator\\Anaconda3\\lib\\site-packages\\ipykernel\\__main__.py:50: SettingWithCopyWarning: \n",
      "A value is trying to be set on a copy of a slice from a DataFrame.\n",
      "Try using .loc[row_indexer,col_indexer] = value instead\n",
      "\n",
      "See the caveats in the documentation: http://pandas.pydata.org/pandas-docs/stable/indexing.html#indexing-view-versus-copy\n"
     ]
    }
   ],
   "source": [
    "# 数据清洗以及特征选择\n",
    "#随机森林是否接受不变成哑变量的回归\n",
    "#对各种参数进行对比，并输出各种参数的三种score曲线\n",
    "#添加更多有意义的变量，对非法值进行填充\n",
    "#KFold\n",
    "\n",
    "#相关性分析\n",
    "#PCA\n",
    "\n",
    "\n",
    "#保留没有空值的字段,以及非类别字段\n",
    "# pd.options.display.max_seq_items = 100   #控制是否完全打印\n",
    "# temp=pd.DataFrame(train.isnull().sum(),columns=['numberofNA'])\n",
    "# print (temp[temp['numberofNA']==0].index) #打印所有没有空值的字段\n",
    "\n",
    "from sklearn.preprocessing import StandardScaler\n",
    "from sklearn.preprocessing import Normalizer\n",
    "from sklearn.ensemble import RandomForestRegressor\n",
    "\n",
    "test.loc[test['product_type'].isnull()==True,'product_type']='Investment'  #替换NA值\n",
    "test.loc[test['culture_objects_top_25'].isnull()==True,'culture_objects_top_25']='no'  #替换NA值\n",
    "test.loc[test['thermal_power_plant_raion'].isnull()==True,'thermal_power_plant_raion']='no'  #替换NA值\n",
    "test.loc[test['incineration_raion'].isnull()==True,'incineration_raion']='no'  #替换NA值\n",
    "test.loc[test['oil_chemistry_raion'].isnull()==True,'oil_chemistry_raion']='no'  #替换NA值\n",
    "test.loc[test['radiation_raion'].isnull()==True,'radiation_raion']='no'  #替换NA值\n",
    "test.loc[test['railroad_terminal_raion'].isnull()==True,'railroad_terminal_raion']='no'  #替换NA值\n",
    "test.loc[test['big_market_raion'].isnull()==True,'big_market_raion']='no'  #替换NA值\n",
    "test.loc[test['nuclear_reactor_raion'].isnull()==True,'nuclear_reactor_raion']='no'  #替换NA值\n",
    "test.loc[test['detention_facility_raion'].isnull()==True,'detention_facility_raion']='no'  #替换NA值\n",
    "test.loc[test['water_1line'].isnull()==True,'water_1line']='no'  #替换NA值\n",
    "test.loc[test['big_road1_1line'].isnull()==True,'big_road1_1line']='no'  #替换NA值\n",
    "test.loc[test['railroad_1line'].isnull()==True,'railroad_1line']='no'  #替换NA值\n",
    "test.loc[test['ecology'].isnull()==True,'ecology']='poor'  #替换NA值\n",
    "test.loc[test['green_part_2000'].isnull()==True,'green_part_2000']=14  #替换NA值\n",
    "\n",
    "train.loc[train['metro_min_walk'].isnull()==True,'metro_min_walk']=14  #替换NA值\n",
    "train.loc[train['metro_km_walk'].isnull()==True,'metro_km_walk']=2  #替换NA值\n",
    "train.loc[train['railroad_station_walk_km'].isnull()==True,'railroad_station_walk_km']=2  #替换NA值\n",
    "train.loc[train['railroad_station_walk_min'].isnull()==True,'railroad_station_walk_min']=25  #替换NA值\n",
    "train.loc[train['floor'].isnull()==True,'floor']=3  #替换NA值\n",
    "\n",
    "test.loc[test['metro_min_walk'].isnull()==True,'metro_min_walk']=14  #替换NA值\n",
    "test.loc[test['metro_km_walk'].isnull()==True,'metro_km_walk']=2  #替换NA值\n",
    "test.loc[test['railroad_station_walk_km'].isnull()==True,'railroad_station_walk_km']=2  #替换NA值\n",
    "test.loc[test['railroad_station_walk_min'].isnull()==True,'railroad_station_walk_min']=25  #替换NA值\n",
    "test.loc[test['floor'].isnull()==True,'floor']=3  #替换NA值\n",
    "\n",
    "\n",
    "#自动求众值填充\n",
    "train[(train.build_year<1400)|(train.build_year>2020)]['build_year']=np.nan             #清洗非法值\n",
    "\n",
    "hist=np.histogram(train['prom_part_5000'],range=(train['prom_part_5000'].min(),train['prom_part_5000'].max()),bins=80,density=True)\n",
    "index=np.argmax(hist[0])\n",
    "train.loc[train['prom_part_5000'].isnull()==True,'prom_part_5000']=round(hist[1][index])  #替换NA值\n",
    "test.loc[test['prom_part_5000'].isnull()==True,'prom_part_5000']=round(hist[1][index])  #替换NA值\n",
    "\n",
    "hist=np.histogram(train['cafe_sum_5000_min_price_avg'],range=(train['cafe_sum_5000_min_price_avg'].min(),train['cafe_sum_5000_min_price_avg'].max()),bins=80,density=True)\n",
    "index=np.argmax(hist[0])\n",
    "train.loc[train['cafe_sum_5000_min_price_avg'].isnull()==True,'cafe_sum_5000_min_price_avg']=round(hist[1][index])  #替换NA值\n",
    "test.loc[test['cafe_sum_5000_min_price_avg'].isnull()==True,'cafe_sum_5000_min_price_avg']=round(hist[1][index])  #替换NA值\n",
    "\n",
    "hist=np.histogram(train['cafe_sum_5000_max_price_avg'],range=(train['cafe_sum_5000_max_price_avg'].min(),train['cafe_sum_5000_max_price_avg'].max()),bins=80,density=True)\n",
    "index=np.argmax(hist[0])\n",
    "train.loc[train['cafe_sum_5000_max_price_avg'].isnull()==True,'cafe_sum_5000_max_price_avg']=round(hist[1][index])  #替换NA值\n",
    "test.loc[test['cafe_sum_5000_max_price_avg'].isnull()==True,'cafe_sum_5000_max_price_avg']=round(hist[1][index])  #替换NA值\n",
    "\n",
    "hist=np.histogram(train['cafe_avg_price_5000'],range=(train['cafe_avg_price_5000'].min(),train['cafe_avg_price_5000'].max()),bins=80,density=True)\n",
    "index=np.argmax(hist[0])\n",
    "train.loc[train['cafe_avg_price_5000'].isnull()==True,'cafe_avg_price_5000']=round(hist[1][index])  #替换NA值\n",
    "test.loc[test['cafe_avg_price_5000'].isnull()==True,'cafe_avg_price_5000']=round(hist[1][index])  #替换NA值\n",
    "\n",
    "\n",
    "hist=np.histogram(train['cafe_sum_3000_min_price_avg'],range=(train['cafe_sum_3000_min_price_avg'].min(),train['cafe_sum_3000_min_price_avg'].max()),bins=80,density=True)\n",
    "index=np.argmax(hist[0])\n",
    "train.loc[train['cafe_sum_3000_min_price_avg'].isnull()==True,'cafe_sum_3000_min_price_avg']=round(hist[1][index])  #替换NA值\n",
    "test.loc[test['cafe_sum_3000_min_price_avg'].isnull()==True,'cafe_sum_3000_min_price_avg']=round(hist[1][index])  #替换NA值\n",
    "\n",
    "hist=np.histogram(train['cafe_sum_3000_max_price_avg'],range=(train['cafe_sum_3000_max_price_avg'].min(),train['cafe_sum_3000_max_price_avg'].max()),bins=80,density=True)\n",
    "index=np.argmax(hist[0])\n",
    "train.loc[train['cafe_sum_3000_max_price_avg'].isnull()==True,'cafe_sum_3000_max_price_avg']=round(hist[1][index])  #替换NA值\n",
    "test.loc[test['cafe_sum_3000_max_price_avg'].isnull()==True,'cafe_sum_3000_max_price_avg']=round(hist[1][index])  #替换NA值\n",
    "\n",
    "hist=np.histogram(train['cafe_avg_price_3000'],range=(train['cafe_avg_price_3000'].min(),train['cafe_avg_price_3000'].max()),bins=80,density=True)\n",
    "index=np.argmax(hist[0])\n",
    "train.loc[train['cafe_avg_price_3000'].isnull()==True,'cafe_avg_price_3000']=round(hist[1][index])  #替换NA值\n",
    "test.loc[test['cafe_avg_price_3000'].isnull()==True,'cafe_avg_price_3000']=round(hist[1][index])  #替换NA值\n",
    "\n",
    "\n",
    "\n",
    "hist=np.histogram(train['cafe_sum_2000_min_price_avg'],range=(train['cafe_sum_2000_min_price_avg'].min(),train['cafe_sum_2000_min_price_avg'].max()),bins=80,density=True)\n",
    "index=np.argmax(hist[0])\n",
    "train.loc[train['cafe_sum_2000_min_price_avg'].isnull()==True,'cafe_sum_2000_min_price_avg']=round(hist[1][index])  #替换NA值\n",
    "test.loc[test['cafe_sum_2000_min_price_avg'].isnull()==True,'cafe_sum_2000_min_price_avg']=round(hist[1][index])  #替换NA值\n",
    "\n",
    "hist=np.histogram(train['cafe_sum_2000_max_price_avg'],range=(train['cafe_sum_2000_max_price_avg'].min(),train['cafe_sum_2000_max_price_avg'].max()),bins=80,density=True)\n",
    "index=np.argmax(hist[0])\n",
    "train.loc[train['cafe_sum_2000_max_price_avg'].isnull()==True,'cafe_sum_2000_max_price_avg']=round(hist[1][index])  #替换NA值\n",
    "test.loc[test['cafe_sum_2000_max_price_avg'].isnull()==True,'cafe_sum_2000_max_price_avg']=round(hist[1][index])  #替换NA值\n",
    "\n",
    "hist=np.histogram(train['cafe_avg_price_2000'],range=(train['cafe_avg_price_2000'].min(),train['cafe_avg_price_2000'].max()),bins=80,density=True)\n",
    "index=np.argmax(hist[0])\n",
    "train.loc[train['cafe_avg_price_2000'].isnull()==True,'cafe_avg_price_2000']=round(hist[1][index])  #替换NA值\n",
    "test.loc[test['cafe_avg_price_2000'].isnull()==True,'cafe_avg_price_2000']=round(hist[1][index])  #替换NA值\n",
    "\n",
    "hist=np.histogram(train['cafe_sum_1500_min_price_avg'],range=(train['cafe_sum_1500_min_price_avg'].min(),train['cafe_sum_1500_min_price_avg'].max()),bins=80,density=True)\n",
    "index=np.argmax(hist[0])\n",
    "train.loc[train['cafe_sum_1500_min_price_avg'].isnull()==True,'cafe_sum_1500_min_price_avg']=round(hist[1][index])  #替换NA值\n",
    "test.loc[test['cafe_sum_1500_min_price_avg'].isnull()==True,'cafe_sum_1500_min_price_avg']=round(hist[1][index])  #替换NA值\n",
    "\n",
    "hist=np.histogram(train['cafe_sum_1500_max_price_avg'],range=(train['cafe_sum_1500_max_price_avg'].min(),train['cafe_sum_1500_max_price_avg'].max()),bins=80,density=True)\n",
    "index=np.argmax(hist[0])\n",
    "train.loc[train['cafe_sum_1500_max_price_avg'].isnull()==True,'cafe_sum_1500_max_price_avg']=round(hist[1][index])  #替换NA值\n",
    "test.loc[test['cafe_sum_1500_max_price_avg'].isnull()==True,'cafe_sum_1500_max_price_avg']=round(hist[1][index])  #替换NA值\n",
    "\n",
    "hist=np.histogram(train['cafe_avg_price_1500'],range=(train['cafe_avg_price_1500'].min(),train['cafe_avg_price_1500'].max()),bins=80,density=True)\n",
    "index=np.argmax(hist[0])\n",
    "train.loc[train['cafe_avg_price_1500'].isnull()==True,'cafe_avg_price_1500']=round(hist[1][index])  #替换NA值\n",
    "test.loc[test['cafe_avg_price_1500'].isnull()==True,'cafe_avg_price_1500']=round(hist[1][index])  #替换NA值\n",
    "\n",
    "hist=np.histogram(train['cafe_sum_1000_min_price_avg'],range=(train['cafe_sum_1000_min_price_avg'].min(),train['cafe_sum_1000_min_price_avg'].max()),bins=80,density=True)\n",
    "index=np.argmax(hist[0])\n",
    "train.loc[train['cafe_sum_1000_min_price_avg'].isnull()==True,'cafe_sum_1000_min_price_avg']=round(hist[1][index])  #替换NA值\n",
    "test.loc[test['cafe_sum_1000_min_price_avg'].isnull()==True,'cafe_sum_1000_min_price_avg']=round(hist[1][index])  #替换NA值\n",
    "\n",
    "hist=np.histogram(train['cafe_sum_1000_max_price_avg'],range=(train['cafe_sum_1000_max_price_avg'].min(),train['cafe_sum_1000_max_price_avg'].max()),bins=80,density=True)\n",
    "index=np.argmax(hist[0])\n",
    "train.loc[train['cafe_sum_1000_max_price_avg'].isnull()==True,'cafe_sum_1000_max_price_avg']=round(hist[1][index])  #替换NA值\n",
    "test.loc[test['cafe_sum_1000_max_price_avg'].isnull()==True,'cafe_sum_1000_max_price_avg']=round(hist[1][index])  #替换NA值\n",
    "\n",
    "hist=np.histogram(train['cafe_avg_price_1000'],range=(train['cafe_avg_price_1000'].min(),train['cafe_avg_price_1000'].max()),bins=80,density=True)\n",
    "index=np.argmax(hist[0])\n",
    "train.loc[train['cafe_avg_price_1000'].isnull()==True,'cafe_avg_price_1000']=round(hist[1][index])  #替换NA值\n",
    "test.loc[test['cafe_avg_price_1000'].isnull()==True,'cafe_avg_price_1000']=round(hist[1][index])  #替换NA值\n",
    "\n",
    "# hist=np.histogram(train['cafe_sum_500_min_price_avg'],range=(train['cafe_sum_500_min_price_avg'].min(),train['cafe_sum_500_min_price_avg'].max()),bins=80,density=True)\n",
    "# index=np.argmax(hist[0])\n",
    "# train.loc[train['cafe_sum_500_min_price_avg'].isnull()==True,'cafe_sum_500_min_price_avg']=round(hist[1][index])  #替换NA值\n",
    "# test.loc[test['cafe_sum_500_min_price_avg'].isnull()==True,'cafe_sum_500_min_price_avg']=round(hist[1][index])  #替换NA值\n",
    "\n",
    "# hist=np.histogram(train['cafe_sum_500_max_price_avg'],range=(train['cafe_sum_500_max_price_avg'].min(),train['cafe_sum_500_max_price_avg'].max()),bins=80,density=True)\n",
    "# index=np.argmax(hist[0])\n",
    "# train.loc[train['cafe_sum_500_max_price_avg'].isnull()==True,'cafe_sum_500_max_price_avg']=round(hist[1][index])  #替换NA值\n",
    "# test.loc[test['cafe_sum_500_max_price_avg'].isnull()==True,'cafe_sum_500_max_price_avg']=round(hist[1][index])  #替换NA值\n",
    "\n",
    "# hist=np.histogram(train['cafe_avg_price_500'],range=(train['cafe_avg_price_500'].min(),train['cafe_avg_price_500'].max()),bins=80,density=True)\n",
    "# index=np.argmax(hist[0])\n",
    "# train.loc[train['cafe_avg_price_500'].isnull()==True,'cafe_avg_price_500']=round(hist[1][index])  #替换NA值\n",
    "# test.loc[test['cafe_avg_price_500'].isnull()==True,'cafe_avg_price_500']=round(hist[1][index])  #替换NA值\n",
    "\n",
    "\n",
    "hist=np.histogram(train['raion_build_count_with_material_info'],range=(train['raion_build_count_with_material_info'].min(),train['raion_build_count_with_material_info'].max()),bins=80,density=True)\n",
    "index=np.argmax(hist[0])\n",
    "train.loc[train['raion_build_count_with_material_info'].isnull()==True,'raion_build_count_with_material_info']=round(hist[1][index])  #替换NA值\n",
    "test.loc[test['raion_build_count_with_material_info'].isnull()==True,'raion_build_count_with_material_info']=round(hist[1][index])  #替换NA值\n",
    "\n",
    "hist=np.histogram(train['build_count_block'],range=(train['build_count_block'].min(),train['build_count_block'].max()),bins=80,density=True)\n",
    "index=np.argmax(hist[0])\n",
    "train.loc[train['build_count_block'].isnull()==True,'build_count_block']=round(hist[1][index])  #替换NA值\n",
    "test.loc[test['build_count_block'].isnull()==True,'build_count_block']=round(hist[1][index])  #替换NA值\n",
    "\n",
    "hist=np.histogram(train['build_count_wood'],range=(train['build_count_wood'].min(),train['build_count_wood'].max()),bins=80,density=True)\n",
    "index=np.argmax(hist[0])\n",
    "train.loc[train['build_count_wood'].isnull()==True,'build_count_wood']=round(hist[1][index])  #替换NA值\n",
    "test.loc[test['build_count_wood'].isnull()==True,'build_count_wood']=round(hist[1][index])  #替换NA值\n",
    "\n",
    "hist=np.histogram(train['build_count_frame'],range=(train['build_count_frame'].min(),train['build_count_frame'].max()),bins=80,density=True)\n",
    "index=np.argmax(hist[0])\n",
    "train.loc[train['build_count_frame'].isnull()==True,'build_count_frame']=round(hist[1][index])  #替换NA值\n",
    "test.loc[test['build_count_frame'].isnull()==True,'build_count_frame']=round(hist[1][index])  #替换NA值\n",
    "\n",
    "hist=np.histogram(train['build_count_brick'],range=(train['build_count_brick'].min(),train['build_count_brick'].max()),bins=80,density=True)\n",
    "index=np.argmax(hist[0])\n",
    "train.loc[train['build_count_brick'].isnull()==True,'build_count_brick']=round(hist[1][index])  #替换NA值\n",
    "test.loc[test['build_count_brick'].isnull()==True,'build_count_brick']=round(hist[1][index])  #替换NA值\n",
    "\n",
    "hist=np.histogram(train['build_count_monolith'],range=(train['build_count_monolith'].min(),train['build_count_monolith'].max()),bins=80,density=True)\n",
    "index=np.argmax(hist[0])\n",
    "train.loc[train['build_count_monolith'].isnull()==True,'build_count_monolith']=round(hist[1][index])  #替换NA值\n",
    "test.loc[test['build_count_monolith'].isnull()==True,'build_count_monolith']=round(hist[1][index])  #替换NA值\n",
    "\n",
    "hist=np.histogram(train['build_count_monolith'],range=(train['build_count_monolith'].min(),train['build_count_monolith'].max()),bins=80,density=True)\n",
    "index=np.argmax(hist[0])\n",
    "train.loc[train['build_count_monolith'].isnull()==True,'build_count_monolith']=round(hist[1][index])  #替换NA值\n",
    "test.loc[test['build_count_monolith'].isnull()==True,'build_count_monolith']=round(hist[1][index])  #替换NA值\n",
    "\n",
    "hist=np.histogram(train['build_count_panel'],range=(train['build_count_panel'].min(),train['build_count_panel'].max()),bins=80,density=True)\n",
    "index=np.argmax(hist[0])\n",
    "train.loc[train['build_count_panel'].isnull()==True,'build_count_panel']=round(hist[1][index])  #替换NA值\n",
    "test.loc[test['build_count_panel'].isnull()==True,'build_count_panel']=round(hist[1][index])  #替换NA值\n",
    "\n",
    "hist=np.histogram(train['build_count_foam'],range=(train['build_count_foam'].min(),train['build_count_foam'].max()),bins=80,density=True)\n",
    "index=np.argmax(hist[0])\n",
    "train.loc[train['build_count_foam'].isnull()==True,'build_count_foam']=round(hist[1][index])  #替换NA值\n",
    "test.loc[test['build_count_foam'].isnull()==True,'build_count_foam']=round(hist[1][index])  #替换NA值\n",
    "\n",
    "hist=np.histogram(train['build_count_slag'],range=(train['build_count_slag'].min(),train['build_count_slag'].max()),bins=80,density=True)\n",
    "index=np.argmax(hist[0])\n",
    "train.loc[train['build_count_slag'].isnull()==True,'build_count_slag']=round(hist[1][index])  #替换NA值\n",
    "test.loc[test['build_count_slag'].isnull()==True,'build_count_slag']=round(hist[1][index])  #替换NA值\n",
    "\n",
    "hist=np.histogram(train['build_count_mix'],range=(train['build_count_mix'].min(),train['build_count_mix'].max()),bins=80,density=True)\n",
    "index=np.argmax(hist[0])\n",
    "train.loc[train['build_count_mix'].isnull()==True,'build_count_mix']=round(hist[1][index])  #替换NA值\n",
    "test.loc[test['build_count_mix'].isnull()==True,'build_count_mix']=round(hist[1][index])  #替换NA值\n",
    "\n",
    "hist=np.histogram(train['raion_build_count_with_builddate_info'],range=(train['raion_build_count_with_builddate_info'].min(),train['raion_build_count_with_builddate_info'].max()),bins=80,density=True)\n",
    "index=np.argmax(hist[0])\n",
    "train.loc[train['raion_build_count_with_builddate_info'].isnull()==True,'raion_build_count_with_builddate_info']=round(hist[1][index])  #替换NA值\n",
    "test.loc[test['raion_build_count_with_builddate_info'].isnull()==True,'raion_build_count_with_builddate_info']=round(hist[1][index])  #替换NA值\n",
    "\n",
    "hist=np.histogram(train['build_count_before_1920'],range=(train['build_count_before_1920'].min(),train['build_count_before_1920'].max()),bins=80,density=True)\n",
    "index=np.argmax(hist[0])\n",
    "train.loc[train['build_count_before_1920'].isnull()==True,'build_count_before_1920']=round(hist[1][index])  #替换NA值\n",
    "test.loc[test['build_count_before_1920'].isnull()==True,'build_count_before_1920']=round(hist[1][index])  #替换NA值\n",
    "\n",
    "hist=np.histogram(train['build_count_1921-1945'],range=(train['build_count_1921-1945'].min(),train['build_count_1921-1945'].max()),bins=80,density=True)\n",
    "index=np.argmax(hist[0])\n",
    "train.loc[train['build_count_1921-1945'].isnull()==True,'build_count_1921-1945']=round(hist[1][index])  #替换NA值\n",
    "test.loc[test['build_count_1921-1945'].isnull()==True,'build_count_1921-1945']=round(hist[1][index])  #替换NA值\n",
    "\n",
    "hist=np.histogram(train['build_count_1946-1970'],range=(train['build_count_1946-1970'].min(),train['build_count_1946-1970'].max()),bins=80,density=True)\n",
    "index=np.argmax(hist[0])\n",
    "train.loc[train['build_count_1946-1970'].isnull()==True,'build_count_1946-1970']=round(hist[1][index])  #替换NA值\n",
    "test.loc[test['build_count_1946-1970'].isnull()==True,'build_count_1946-1970']=round(hist[1][index])  #替换NA值\n",
    "\n",
    "hist=np.histogram(train['build_count_1971-1995'],range=(train['build_count_1971-1995'].min(),train['build_count_1971-1995'].max()),bins=80,density=True)\n",
    "index=np.argmax(hist[0])\n",
    "train.loc[train['build_count_1971-1995'].isnull()==True,'build_count_1971-1995']=round(hist[1][index])  #替换NA值\n",
    "test.loc[test['build_count_1971-1995'].isnull()==True,'build_count_1971-1995']=round(hist[1][index])  #替换NA值\n",
    "\n",
    "hist=np.histogram(train['build_count_after_1995'],range=(train['build_count_after_1995'].min(),train['build_count_after_1995'].max()),bins=80,density=True)\n",
    "index=np.argmax(hist[0])\n",
    "train.loc[train['build_count_after_1995'].isnull()==True,'build_count_after_1995']=round(hist[1][index])  #替换NA值\n",
    "test.loc[test['build_count_after_1995'].isnull()==True,'build_count_after_1995']=round(hist[1][index])  #替换NA值\n",
    "\n",
    "hist=np.histogram(train['life_sq'],range=(train['life_sq'].min(),train['life_sq'].max()),bins=80,density=True)\n",
    "index=np.argmax(hist[0])\n",
    "train.loc[train['life_sq'].isnull()==True,'life_sq']=round(hist[1][index])  #替换NA值\n",
    "test.loc[test['life_sq'].isnull()==True,'life_sq']=round(hist[1][index])  #替换NA值\n",
    "\n",
    "hist=np.histogram(train['life_sq'],range=(train['life_sq'].min(),train['life_sq'].max()),bins=80,density=True)\n",
    "index=np.argmax(hist[0])\n",
    "train.loc[train['life_sq'].isnull()==True,'life_sq']=round(hist[1][index])  #替换NA值\n",
    "test.loc[test['life_sq'].isnull()==True,'life_sq']=round(hist[1][index])  #替换NA值\n",
    "\n",
    "hist=np.histogram(train['school_quota'],range=(train['school_quota'].min(),train['school_quota'].max()),bins=80,density=True)\n",
    "index=np.argmax(hist[0])\n",
    "train.loc[train['school_quota'].isnull()==True,'school_quota']=round(hist[1][index])  #替换NA值\n",
    "test.loc[test['school_quota'].isnull()==True,'school_quota']=round(hist[1][index])  #替换NA值\n",
    "\n",
    "hist=np.histogram(train['preschool_quota'],range=(train['preschool_quota'].min(),train['preschool_quota'].max()),bins=80,density=True)\n",
    "index=np.argmax(hist[0])\n",
    "train.loc[train['preschool_quota'].isnull()==True,'preschool_quota']=round(hist[1][index])  #替换NA值\n",
    "test.loc[test['preschool_quota'].isnull()==True,'preschool_quota']=round(hist[1][index])  #替换NA值\n",
    "\n",
    "hist=np.histogram(train['max_floor'],range=(train['max_floor'].min(),train['max_floor'].max()),bins=20,density=True)\n",
    "index=np.argmax(hist[0])\n",
    "train.loc[train['max_floor'].isnull()==True,'max_floor']=round(hist[1][index])  #替换NA值\n",
    "test.loc[test['max_floor'].isnull()==True,'max_floor']=round(hist[1][index])  #替换NA值\n",
    "\n",
    "hist=np.histogram(train['material'],range=(train['material'].min(),train['material'].max()),bins=[1,2,3,4,5,6],density=True)\n",
    "index=np.argmax(hist[0])\n",
    "train.loc[train['material'].isnull()==True,'material']=round(hist[1][index])  #替换NA值\n",
    "test.loc[test['material'].isnull()==True,'material']=round(hist[1][index])  #替换NA值\n",
    "\n",
    "hist=np.histogram(train['num_room'],range=(train['num_room'].min(),train['num_room'].max()),bins=5,density=True)\n",
    "index=np.argmax(hist[0])\n",
    "train.loc[train['num_room'].isnull()==True,'num_room']=round(hist[1][index])  #替换NA值\n",
    "test.loc[test['num_room'].isnull()==True,'num_room']=round(hist[1][index])  #替换NA值\n",
    "\n",
    "hist=np.histogram(train['kitch_sq'],range=(train['kitch_sq'].min(),train['kitch_sq'].max()),bins=8,density=True)\n",
    "index=np.argmax(hist[0])\n",
    "train.loc[train['kitch_sq'].isnull()==True,'kitch_sq']=round(hist[1][index])  #替换NA值\n",
    "test.loc[test['kitch_sq'].isnull()==True,'kitch_sq']=round(hist[1][index])  #替换NA值\n",
    "\n",
    "# hist=np.histogram(train['state'],range=(train['state'].min(),train['state'].max()),bins=5,density=True)\n",
    "# index=np.argmax(hist[0])\n",
    "# train.loc[train['state'].isnull()==True,'state']=round(hist[1][index])  #替换NA值\n",
    "# test.loc[test['state'].isnull()==True,'state']=round(hist[1][index])  #替换NA值\n",
    "\n",
    "# hist=np.histogram(train['build_year'],range=(train['build_year'].min(),train['state'].max()),bins=5,density=True)\n",
    "# index=np.argmax(hist[0])\n",
    "# train.loc[train['build_year'].isnull()==True,'build_year']=round(hist[1][index])  #替换NA值\n",
    "# test.loc[test['build_year'].isnull()==True,'build_year']=round(hist[1][index])  #替换NA值\n",
    "\n",
    "# hist=np.histogram(train['hospital_beds_raion'],range=(train['hospital_beds_raion'].min(),train['hospital_beds_raion'].max()),bins=40,density=True)\n",
    "# index=np.argmax(hist[0])\n",
    "# train.loc[train['hospital_beds_raion'].isnull()==True,'hospital_beds_raion']=round(hist[1][index])  #替换NA值\n",
    "# test.loc[test['hospital_beds_raion'].isnull()==True,'hospital_beds_raion']=round(hist[1][index])  #替换NA值\n",
    "\n",
    "\n",
    "train_1=train[['id', 'timestamp', 'full_sq', 'area_m','product_type',\n",
    "       'ID_metro','ID_railroad_station_avto','ID_big_road1','ID_big_road2','ID_big_road2', 'ID_bus_terminal',\n",
    "       'culture_objects_top_25','thermal_power_plant_raion','incineration_raion','oil_chemistry_raion',\n",
    "       'radiation_raion','railroad_terminal_raion','big_market_raion','nuclear_reactor_raion','detention_facility_raion',\n",
    "       'water_1line','big_road1_1line','railroad_1line','ecology', \n",
    "       'green_part_2000','metro_min_walk','metro_km_walk','railroad_station_walk_km','railroad_station_walk_min','floor',\n",
    "       'prom_part_5000','cafe_sum_5000_min_price_avg','cafe_sum_5000_max_price_avg','cafe_avg_price_5000',\n",
    "       'cafe_sum_3000_min_price_avg','cafe_sum_3000_max_price_avg','cafe_avg_price_3000',\n",
    "       'cafe_sum_2000_min_price_avg','cafe_sum_2000_max_price_avg','cafe_avg_price_2000',\n",
    "       'cafe_sum_1500_min_price_avg','cafe_sum_1500_max_price_avg','cafe_avg_price_1500',\n",
    "#        'cafe_sum_1000_min_price_avg','cafe_sum_1000_max_price_avg','cafe_avg_price_1000',   \n",
    "#        'cafe_sum_500_min_price_avg','cafe_sum_500_max_price_avg','cafe_avg_price_500',\n",
    "       'raion_build_count_with_material_info',\n",
    "       'build_count_block','build_count_wood','build_count_frame','build_count_brick','build_count_monolith','build_count_panel',\n",
    "       'build_count_foam','build_count_slag','build_count_mix',\n",
    "       'raion_build_count_with_builddate_info',\n",
    "       'build_count_before_1920','build_count_1921-1945','build_count_1946-1970','build_count_1971-1995',\n",
    "       'build_count_after_1995','life_sq','school_quota','preschool_quota','max_floor','material',\n",
    "       'num_room','kitch_sq',#'state','build_year','hospital_beds_raion',\n",
    "       'raion_popul', 'green_zone_part', 'indust_part', 'children_preschool',\n",
    "       'preschool_education_centers_raion', 'children_school',\n",
    "       'school_education_centers_raion',\n",
    "       'school_education_centers_top_20_raion', 'healthcare_centers_raion',\n",
    "       'university_top_20_raion', 'sport_objects_raion',\n",
    "       'additional_education_raion',\n",
    "       'culture_objects_top_25_raion', 'shopping_centers_raion',\n",
    "       'office_raion',\n",
    "       'full_all', 'male_f', 'female_f', 'young_all', 'young_male',\n",
    "       'young_female', 'work_all', 'work_male', 'work_female', 'ekder_all',\n",
    "       'ekder_male', 'ekder_female', '0_6_all', '0_6_male', '0_6_female',\n",
    "       '7_14_all', '7_14_male', '7_14_female', '0_17_all', '0_17_male',\n",
    "       '0_17_female', '16_29_all', '16_29_male', '16_29_female', '0_13_all',\n",
    "       '0_13_male', '0_13_female', 'metro_min_avto',\n",
    "       'metro_km_avto', 'kindergarten_km', 'school_km', 'park_km',\n",
    "       'green_zone_km', 'industrial_km', 'water_treatment_km', 'cemetery_km',\n",
    "       'incineration_km', 'railroad_station_avto_km',\n",
    "       'railroad_station_avto_min', \n",
    "       'public_transport_station_km', 'public_transport_station_min_walk',\n",
    "       'water_km', 'mkad_km', 'ttk_km', 'sadovoe_km',\n",
    "       'bulvar_ring_km', 'kremlin_km', 'big_road1_km','big_road2_km','railroad_km', 'zd_vokzaly_avto_km',\n",
    "       'bus_terminal_avto_km', 'oil_chemistry_km',\n",
    "       'nuclear_reactor_km', 'radiation_km', 'power_transmission_line_km',\n",
    "       'thermal_power_plant_km', 'ts_km', 'big_market_km', 'market_shop_km',\n",
    "       'fitness_km', 'swim_pool_km', 'ice_rink_km', 'stadium_km',\n",
    "       'basketball_km', 'hospice_morgue_km', 'detention_facility_km',\n",
    "       'public_healthcare_km', 'university_km', 'workplaces_km',\n",
    "       'shopping_centers_km', 'office_km', 'additional_education_km',\n",
    "       'preschool_km', 'big_church_km', 'church_synagogue_km', 'mosque_km',\n",
    "       'theater_km', 'museum_km', 'exhibition_km', 'catering_km',\n",
    "       'green_part_500', 'prom_part_500', 'office_count_500', 'office_sqm_500',\n",
    "       'trc_count_500', 'trc_sqm_500', 'cafe_count_500',\n",
    "       'cafe_count_500_na_price', 'cafe_count_500_price_500',\n",
    "       'cafe_count_500_price_1000', 'cafe_count_500_price_1500',\n",
    "       'cafe_count_500_price_2500', 'cafe_count_500_price_4000',\n",
    "       'cafe_count_500_price_high', 'big_church_count_500', 'church_count_500',\n",
    "       'mosque_count_500', 'leisure_count_500', 'sport_count_500',\n",
    "       'market_count_500', 'green_part_1000', 'prom_part_1000',\n",
    "       'office_count_1000', 'office_sqm_1000', 'trc_count_1000',\n",
    "       'trc_sqm_1000', 'cafe_count_1000', 'cafe_count_1000_na_price',\n",
    "       'cafe_count_1000_price_500', 'cafe_count_1000_price_1000',\n",
    "       'cafe_count_1000_price_1500', 'cafe_count_1000_price_2500',\n",
    "       'cafe_count_1000_price_4000', 'cafe_count_1000_price_high',\n",
    "       'big_church_count_1000', 'church_count_1000', 'mosque_count_1000',\n",
    "       'leisure_count_1000', 'sport_count_1000', 'market_count_1000',\n",
    "       'green_part_1500', 'prom_part_1500', 'office_count_1500',\n",
    "       'office_sqm_1500', 'trc_count_1500', 'trc_sqm_1500', 'cafe_count_1500',\n",
    "       'cafe_count_1500_na_price', 'cafe_count_1500_price_500',\n",
    "       'cafe_count_1500_price_1000', 'cafe_count_1500_price_1500',\n",
    "       'cafe_count_1500_price_2500', 'cafe_count_1500_price_4000',\n",
    "       'cafe_count_1500_price_high', 'big_church_count_1500',\n",
    "       'church_count_1500', 'mosque_count_1500', 'leisure_count_1500',\n",
    "       'sport_count_1500', 'market_count_1500',\n",
    "       'prom_part_2000', 'office_count_2000', 'office_sqm_2000',\n",
    "       'trc_count_2000', 'trc_sqm_2000', 'cafe_count_2000',\n",
    "       'cafe_count_2000_na_price', 'cafe_count_2000_price_500',\n",
    "       'cafe_count_2000_price_1000', 'cafe_count_2000_price_1500',\n",
    "       'cafe_count_2000_price_2500', 'cafe_count_2000_price_4000',\n",
    "       'cafe_count_2000_price_high', 'big_church_count_2000',\n",
    "       'church_count_2000', 'mosque_count_2000', 'leisure_count_2000',\n",
    "       'sport_count_2000', 'market_count_2000', 'green_part_3000',\n",
    "       'prom_part_3000', 'office_count_3000', 'office_sqm_3000',\n",
    "       'trc_count_3000', 'trc_sqm_3000', 'cafe_count_3000',\n",
    "       'cafe_count_3000_na_price', 'cafe_count_3000_price_500',\n",
    "       'cafe_count_3000_price_1000', 'cafe_count_3000_price_1500',\n",
    "       'cafe_count_3000_price_2500', 'cafe_count_3000_price_4000',\n",
    "       'cafe_count_3000_price_high', 'big_church_count_3000',\n",
    "       'church_count_3000', 'mosque_count_3000', 'leisure_count_3000',\n",
    "       'sport_count_3000', 'market_count_3000', 'green_part_5000',\n",
    "       'office_count_5000', 'office_sqm_5000', 'trc_count_5000',\n",
    "       'trc_sqm_5000', 'cafe_count_5000', 'cafe_count_5000_na_price',\n",
    "       'cafe_count_5000_price_500', 'cafe_count_5000_price_1000',\n",
    "       'cafe_count_5000_price_1500', 'cafe_count_5000_price_2500',\n",
    "       'cafe_count_5000_price_4000', 'cafe_count_5000_price_high',\n",
    "       'big_church_count_5000', 'church_count_5000', 'mosque_count_5000',\n",
    "       'leisure_count_5000', 'sport_count_5000', 'market_count_5000','price_doc']]\n",
    "test_1=test[['id', 'timestamp', 'full_sq', 'area_m','product_type',\n",
    "       'ID_metro','ID_railroad_station_avto','ID_big_road1','ID_big_road2','ID_big_road2', 'ID_bus_terminal',\n",
    "       'culture_objects_top_25','thermal_power_plant_raion','incineration_raion','oil_chemistry_raion',\n",
    "       'radiation_raion','railroad_terminal_raion','big_market_raion','nuclear_reactor_raion','detention_facility_raion',\n",
    "       'water_1line','big_road1_1line','railroad_1line','ecology',\n",
    "       'green_part_2000','metro_min_walk','metro_km_walk','railroad_station_walk_km','railroad_station_walk_min','floor',\n",
    "       'prom_part_5000','cafe_sum_5000_min_price_avg','cafe_sum_5000_max_price_avg','cafe_avg_price_5000',\n",
    "       'cafe_sum_3000_min_price_avg','cafe_sum_3000_max_price_avg','cafe_avg_price_3000',\n",
    "       'cafe_sum_2000_min_price_avg','cafe_sum_2000_max_price_avg','cafe_avg_price_2000',\n",
    "       'cafe_sum_1500_min_price_avg','cafe_sum_1500_max_price_avg','cafe_avg_price_1500',\n",
    "#        'cafe_sum_1000_min_price_avg','cafe_sum_1000_max_price_avg','cafe_avg_price_1000',   \n",
    "#        'cafe_sum_500_min_price_avg','cafe_sum_500_max_price_avg','cafe_avg_price_500',\n",
    "       'raion_build_count_with_material_info',\n",
    "       'build_count_block','build_count_wood','build_count_frame','build_count_brick','build_count_monolith','build_count_panel',\n",
    "       'build_count_foam','build_count_slag','build_count_mix',\n",
    "       'raion_build_count_with_builddate_info',\n",
    "       'build_count_before_1920','build_count_1921-1945','build_count_1946-1970','build_count_1971-1995',\n",
    "       'build_count_after_1995','life_sq','school_quota','preschool_quota','max_floor','material',\n",
    "       'num_room','kitch_sq',#'state','build_year','hospital_beds_raion',\n",
    "       'raion_popul', 'green_zone_part', 'indust_part', 'children_preschool',\n",
    "       'preschool_education_centers_raion', 'children_school',\n",
    "       'school_education_centers_raion',\n",
    "       'school_education_centers_top_20_raion', 'healthcare_centers_raion',\n",
    "       'university_top_20_raion', 'sport_objects_raion',\n",
    "       'additional_education_raion',\n",
    "       'culture_objects_top_25_raion', 'shopping_centers_raion',\n",
    "       'office_raion',\n",
    "       'full_all', 'male_f', 'female_f', 'young_all', 'young_male',\n",
    "       'young_female', 'work_all', 'work_male', 'work_female', 'ekder_all',\n",
    "       'ekder_male', 'ekder_female', '0_6_all', '0_6_male', '0_6_female',\n",
    "       '7_14_all', '7_14_male', '7_14_female', '0_17_all', '0_17_male',\n",
    "       '0_17_female', '16_29_all', '16_29_male', '16_29_female', '0_13_all',\n",
    "       '0_13_male', '0_13_female','metro_min_avto',\n",
    "       'metro_km_avto', 'kindergarten_km', 'school_km', 'park_km',\n",
    "       'green_zone_km', 'industrial_km', 'water_treatment_km', 'cemetery_km',\n",
    "       'incineration_km', 'railroad_station_avto_km',\n",
    "       'railroad_station_avto_min',\n",
    "       'public_transport_station_km', 'public_transport_station_min_walk',\n",
    "       'water_km', 'mkad_km', 'ttk_km', 'sadovoe_km',\n",
    "       'bulvar_ring_km', 'kremlin_km', 'big_road1_km','big_road2_km','railroad_km', 'zd_vokzaly_avto_km',\n",
    "       'bus_terminal_avto_km','oil_chemistry_km',\n",
    "       'nuclear_reactor_km', 'radiation_km', 'power_transmission_line_km',\n",
    "       'thermal_power_plant_km', 'ts_km', 'big_market_km', 'market_shop_km',\n",
    "       'fitness_km', 'swim_pool_km', 'ice_rink_km', 'stadium_km',\n",
    "       'basketball_km', 'hospice_morgue_km', 'detention_facility_km',\n",
    "       'public_healthcare_km', 'university_km', 'workplaces_km',\n",
    "       'shopping_centers_km', 'office_km', 'additional_education_km',\n",
    "       'preschool_km', 'big_church_km', 'church_synagogue_km', 'mosque_km',\n",
    "       'theater_km', 'museum_km', 'exhibition_km', 'catering_km',\n",
    "       'green_part_500', 'prom_part_500', 'office_count_500', 'office_sqm_500',\n",
    "       'trc_count_500', 'trc_sqm_500', 'cafe_count_500',\n",
    "       'cafe_count_500_na_price', 'cafe_count_500_price_500',\n",
    "       'cafe_count_500_price_1000', 'cafe_count_500_price_1500',\n",
    "       'cafe_count_500_price_2500', 'cafe_count_500_price_4000',\n",
    "       'cafe_count_500_price_high', 'big_church_count_500', 'church_count_500',\n",
    "       'mosque_count_500', 'leisure_count_500', 'sport_count_500',\n",
    "       'market_count_500', 'green_part_1000', 'prom_part_1000',\n",
    "       'office_count_1000', 'office_sqm_1000', 'trc_count_1000',\n",
    "       'trc_sqm_1000', 'cafe_count_1000', 'cafe_count_1000_na_price',\n",
    "       'cafe_count_1000_price_500', 'cafe_count_1000_price_1000',\n",
    "       'cafe_count_1000_price_1500', 'cafe_count_1000_price_2500',\n",
    "       'cafe_count_1000_price_4000', 'cafe_count_1000_price_high',\n",
    "       'big_church_count_1000', 'church_count_1000', 'mosque_count_1000',\n",
    "       'leisure_count_1000', 'sport_count_1000', 'market_count_1000',\n",
    "       'green_part_1500', 'prom_part_1500', 'office_count_1500',\n",
    "       'office_sqm_1500', 'trc_count_1500', 'trc_sqm_1500', 'cafe_count_1500',\n",
    "       'cafe_count_1500_na_price', 'cafe_count_1500_price_500',\n",
    "       'cafe_count_1500_price_1000', 'cafe_count_1500_price_1500',\n",
    "       'cafe_count_1500_price_2500', 'cafe_count_1500_price_4000',\n",
    "       'cafe_count_1500_price_high', 'big_church_count_1500',\n",
    "       'church_count_1500', 'mosque_count_1500', 'leisure_count_1500',\n",
    "       'sport_count_1500', 'market_count_1500',\n",
    "       'prom_part_2000', 'office_count_2000', 'office_sqm_2000',\n",
    "       'trc_count_2000', 'trc_sqm_2000', 'cafe_count_2000',\n",
    "       'cafe_count_2000_na_price', 'cafe_count_2000_price_500',\n",
    "       'cafe_count_2000_price_1000', 'cafe_count_2000_price_1500',\n",
    "       'cafe_count_2000_price_2500', 'cafe_count_2000_price_4000',\n",
    "       'cafe_count_2000_price_high', 'big_church_count_2000',\n",
    "       'church_count_2000', 'mosque_count_2000', 'leisure_count_2000',\n",
    "       'sport_count_2000', 'market_count_2000', 'green_part_3000',\n",
    "       'prom_part_3000', 'office_count_3000', 'office_sqm_3000',\n",
    "       'trc_count_3000', 'trc_sqm_3000', 'cafe_count_3000',\n",
    "       'cafe_count_3000_na_price', 'cafe_count_3000_price_500',\n",
    "       'cafe_count_3000_price_1000', 'cafe_count_3000_price_1500',\n",
    "       'cafe_count_3000_price_2500', 'cafe_count_3000_price_4000',\n",
    "       'cafe_count_3000_price_high', 'big_church_count_3000',\n",
    "       'church_count_3000', 'mosque_count_3000', 'leisure_count_3000',\n",
    "       'sport_count_3000', 'market_count_3000', 'green_part_5000',\n",
    "       'office_count_5000', 'office_sqm_5000', 'trc_count_5000',\n",
    "       'trc_sqm_5000', 'cafe_count_5000', 'cafe_count_5000_na_price',\n",
    "       'cafe_count_5000_price_500', 'cafe_count_5000_price_1000',\n",
    "       'cafe_count_5000_price_1500', 'cafe_count_5000_price_2500',\n",
    "       'cafe_count_5000_price_4000', 'cafe_count_5000_price_high',\n",
    "       'big_church_count_5000', 'church_count_5000', 'mosque_count_5000',\n",
    "       'leisure_count_5000', 'sport_count_5000', 'market_count_5000']]\n",
    "\n",
    "\n",
    "macro_1=macro[['timestamp','oil_urals','gdp_annual','gdp_annual_growth','average_provision_of_build_contract',\n",
    "'deposits_value','mortgage_value','mortgage_rate','fixed_basket']]\n",
    "\n",
    "\n",
    "#将类别变量变换为哑变量\n",
    "dummies = pd.get_dummies(train_1[['product_type','culture_objects_top_25','thermal_power_plant_raion','incineration_raion','oil_chemistry_raion',\n",
    "       'radiation_raion','railroad_terminal_raion','big_market_raion','nuclear_reactor_raion','detention_facility_raion',\n",
    "       'water_1line','big_road1_1line','railroad_1line','ecology']])\n",
    "train_1=train_1.join(dummies).drop(['product_type','culture_objects_top_25','thermal_power_plant_raion','incineration_raion','oil_chemistry_raion',\n",
    "       'radiation_raion','railroad_terminal_raion','big_market_raion','nuclear_reactor_raion','detention_facility_raion',\n",
    "       'water_1line','big_road1_1line','railroad_1line','ecology'],axis=1)\n",
    "\n",
    "dummies = pd.get_dummies(test_1[['product_type','culture_objects_top_25','thermal_power_plant_raion','incineration_raion','oil_chemistry_raion',\n",
    "       'radiation_raion','railroad_terminal_raion','big_market_raion','nuclear_reactor_raion','detention_facility_raion',\n",
    "       'water_1line','big_road1_1line','railroad_1line','ecology']])\n",
    "test_1=test_1.join(dummies).drop(['product_type','culture_objects_top_25','thermal_power_plant_raion','incineration_raion','oil_chemistry_raion',\n",
    "       'radiation_raion','railroad_terminal_raion','big_market_raion','nuclear_reactor_raion','detention_facility_raion',\n",
    "       'water_1line','big_road1_1line','railroad_1line','ecology'],axis=1)\n"
   ]
  },
  {
   "cell_type": "code",
   "execution_count": 178,
   "metadata": {
    "collapsed": true,
    "scrolled": true
   },
   "outputs": [],
   "source": [
    "from sklearn.cross_validation import train_test_split\n",
    "temp_x,verify_x,temp_y,verify_y=train_test_split(samples_x,samples_y,test_size=0.25,random_state=42)\n",
    "train_x,validation_x,train_y,validation_y=train_test_split(temp_x,temp_y,test_size=0.5,random_state=42)\n"
   ]
  },
  {
   "cell_type": "code",
   "execution_count": 179,
   "metadata": {
    "collapsed": false
   },
   "outputs": [
    {
     "name": "stderr",
     "output_type": "stream",
     "text": [
      "C:\\Users\\Administrator\\Anaconda3\\lib\\site-packages\\sklearn\\ensemble\\forest.py:687: UserWarning: Some inputs do not have OOB scores. This probably means too few trees were used to compute any reliable oob estimates.\n",
      "  warn(\"Some inputs do not have OOB scores. \"\n"
     ]
    },
    {
     "data": {
      "text/plain": [
       "RandomForestRegressor(bootstrap=True, criterion='mse', max_depth=None,\n",
       "           max_features='auto', max_leaf_nodes=None, min_samples_leaf=1,\n",
       "           min_samples_split=2, min_weight_fraction_leaf=0.0,\n",
       "           n_estimators=20, n_jobs=1, oob_score=True, random_state=None,\n",
       "           verbose=0, warm_start=False)"
      ]
     },
     "execution_count": 179,
     "metadata": {},
     "output_type": "execute_result"
    }
   ],
   "source": [
    "rfr = RandomForestRegressor(n_estimators=20,oob_score=True)\n",
    "rfr.fit(train_x,train_y)\n"
   ]
  },
  {
   "cell_type": "code",
   "execution_count": 180,
   "metadata": {
    "collapsed": false,
    "scrolled": true
   },
   "outputs": [
    {
     "name": "stdout",
     "output_type": "stream",
     "text": [
      "the score for train set itself: 0.936393478561\n",
      "the score for validation set: 0.627781115019\n",
      "the score for verify set: 0.63900390339\n"
     ]
    }
   ],
   "source": [
    "#cross validation evaluation\n",
    "print ('the score for train set itself:',rfr.score(train_x,train_y))\n",
    "print ('the score for validation set:',rfr.score(validation_x,validation_y))\n",
    "print ('the score for verify set:',rfr.score(verify_x,verify_y))"
   ]
  },
  {
   "cell_type": "code",
   "execution_count": 50,
   "metadata": {
    "collapsed": false
   },
   "outputs": [],
   "source": [
    "# output the prediction\n",
    "prediction=rfr.predict(test_x)\n"
   ]
  },
  {
   "cell_type": "code",
   "execution_count": 41,
   "metadata": {
    "collapsed": false
   },
   "outputs": [
    {
     "name": "stdout",
     "output_type": "stream",
     "text": [
      "[[30474]\n",
      " [30475]\n",
      " [30476]\n",
      " ..., \n",
      " [38133]\n",
      " [38134]\n",
      " [38135]]\n",
      "(7662, 1)\n"
     ]
    }
   ],
   "source": [
    "# pd.DataFrame([np.array(test_1[[0]]),prediction],columns=['id','price_doc'])  #prediction_result=\n",
    "# [np.array(test_1[[0]]),np.array(prediction)].shape\n",
    "# np.array(test_1[[0]]).shape\n",
    "# np.array(prediction).shape\n",
    "\n",
    "# type(np.array(test_1[[0]]))\n",
    "# type(np.array(prediction))\n",
    "# [np.array(test_1[[0]]),np.array(prediction).transpose()]\n",
    "print(np.array(test_1[[0]]))\n",
    "print(np.array(test_1[[0]]).shape)\n",
    "# prediction.shape=(1,7662)\n",
    "# print(prediction.transpose())\n",
    "# print(prediction.transpose().shape)\n",
    "\n",
    "# temp=[np.array(test_1[[0]]),prediction.transpose()]\n",
    "\n",
    "# pd.DataFrame(temp,columns=['id','price_doc'])\n"
   ]
  },
  {
   "cell_type": "code",
   "execution_count": 24,
   "metadata": {
    "collapsed": false,
    "scrolled": false
   },
   "outputs": [
    {
     "name": "stdout",
     "output_type": "stream",
     "text": [
      "Your sklearn version is 0.17.1\n"
     ]
    }
   ],
   "source": [
    "rfr.apply(train_x)\n",
    "rfr.get_params(deep=True)\n",
    "rfr.oob_score_\n",
    "import sklearn\n",
    "print('Your sklearn version is {}'.format(sklearn.__version__))"
   ]
  },
  {
   "cell_type": "code",
   "execution_count": 43,
   "metadata": {
    "collapsed": false
   },
   "outputs": [],
   "source": [
    "pd.options.display.max_rows=8000\n",
    "pd.options.display.max_columns=20\n",
    "pd.options.display.max_columns=20\n",
    "# temp=pd.DataFrame(prediction.transpose(),columns=['price'])\n",
    "# print(\"%1.9f\",%temp)"
   ]
  },
  {
   "cell_type": "code",
   "execution_count": 131,
   "metadata": {
    "collapsed": false
   },
   "outputs": [
    {
     "data": {
      "text/plain": [
       "array([[  5242059.2 ,   8718912.  ,   5884500.  , ...,   4691908.15,\n",
       "          5450500.  ,  10545212.75]])"
      ]
     },
     "execution_count": 131,
     "metadata": {},
     "output_type": "execute_result"
    }
   ],
   "source": [
    "prediction"
   ]
  },
  {
   "cell_type": "code",
   "execution_count": 132,
   "metadata": {
    "collapsed": false
   },
   "outputs": [
    {
     "name": "stdout",
     "output_type": "stream",
     "text": [
      "[[  5242059.2    8718912.     5884500.   ...,   4691908.15   5450500.\n",
      "   10545212.75]]\n"
     ]
    }
   ],
   "source": [
    "print(prediction)"
   ]
  },
  {
   "cell_type": "code",
   "execution_count": 133,
   "metadata": {
    "collapsed": true
   },
   "outputs": [],
   "source": [
    "temp.to_csv('out.csv')"
   ]
  },
  {
   "cell_type": "code",
   "execution_count": 82,
   "metadata": {
    "collapsed": false
   },
   "outputs": [
    {
     "data": {
      "text/plain": [
       "(array([  0.00000000e+00,   0.00000000e+00,   0.00000000e+00,\n",
       "          0.00000000e+00,   0.00000000e+00,   0.00000000e+00,\n",
       "          0.00000000e+00,   0.00000000e+00,   0.00000000e+00,\n",
       "          0.00000000e+00,   0.00000000e+00,   0.00000000e+00,\n",
       "          0.00000000e+00,   1.22848463e-06,   0.00000000e+00,\n",
       "          0.00000000e+00,   2.45696925e-06,   6.38812006e-05,\n",
       "          4.95202153e-03,   1.45882549e-02]),\n",
       " array([ 1000.,  1051.,  1102.,  1153.,  1204.,  1255.,  1306.,  1357.,\n",
       "         1408.,  1459.,  1510.,  1561.,  1612.,  1663.,  1714.,  1765.,\n",
       "         1816.,  1867.,  1918.,  1969.,  2020.]))"
      ]
     },
     "execution_count": 82,
     "metadata": {},
     "output_type": "execute_result"
    }
   ],
   "source": [
    "# index=np.argmax(np.histogram(train['build_year'],range=[1000,2020],bins=10,density=True)[0])\n",
    "# round(np.histogram(train['build_year'],range=[1000,2020],bins=10,density=True)[1][index])\n",
    "np.histogram(train['build_year'],range=[1000,2020],bins=20,density=True)\n"
   ]
  },
  {
   "cell_type": "code",
   "execution_count": 110,
   "metadata": {
    "collapsed": false
   },
   "outputs": [
    {
     "data": {
      "text/plain": [
       "0"
      ]
     },
     "execution_count": 110,
     "metadata": {},
     "output_type": "execute_result"
    }
   ],
   "source": [
    "train['prom_part_5000'].isnull().sum()"
   ]
  },
  {
   "cell_type": "code",
   "execution_count": 174,
   "metadata": {
    "collapsed": false
   },
   "outputs": [
    {
     "data": {
      "text/plain": [
       "(270,)"
      ]
     },
     "execution_count": 174,
     "metadata": {},
     "output_type": "execute_result"
    }
   ],
   "source": [
    "rfr.feature_importances_.shape"
   ]
  },
  {
   "cell_type": "code",
   "execution_count": 175,
   "metadata": {
    "collapsed": false
   },
   "outputs": [
    {
     "data": {
      "text/plain": [
       "(30471, 298)"
      ]
     },
     "execution_count": 175,
     "metadata": {},
     "output_type": "execute_result"
    }
   ],
   "source": [
    "train_1.shape"
   ]
  },
  {
   "cell_type": "code",
   "execution_count": null,
   "metadata": {
    "collapsed": true
   },
   "outputs": [],
   "source": []
  }
 ],
 "metadata": {
  "anaconda-cloud": {},
  "kernelspec": {
   "display_name": "Python [conda root]",
   "language": "python",
   "name": "conda-root-py"
  },
  "language_info": {
   "codemirror_mode": {
    "name": "ipython",
    "version": 3
   },
   "file_extension": ".py",
   "mimetype": "text/x-python",
   "name": "python",
   "nbconvert_exporter": "python",
   "pygments_lexer": "ipython3",
   "version": "3.5.2"
  }
 },
 "nbformat": 4,
 "nbformat_minor": 1
}
