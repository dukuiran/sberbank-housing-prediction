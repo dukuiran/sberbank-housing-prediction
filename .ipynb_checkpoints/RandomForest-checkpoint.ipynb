{
 "cells": [
  {
   "cell_type": "code",
   "execution_count": 25,
   "metadata": {
    "collapsed": false,
    "scrolled": true
   },
   "outputs": [
    {
     "name": "stdout",
     "output_type": "stream",
     "text": [
      "['.git', '.ipynb_checkpoints', '3D-scatter-chart.ipynb', 'data_dictionary.txt', 'historical score.txt', 'macro.csv', 'RandomForest.ipynb', 'ridge regression test.ipynb', 'ridgeCV.ipynb', 'ridge_plot.png', 'run_at_here.bat', 'sample_submission.csv', 'test.csv', 'train.csv', '__MACOSX']\n"
     ]
    }
   ],
   "source": [
    "import numpy as np # linear algebra\n",
    "import pandas as pd # data processing, CSV file I/O (e.g. pd.read_csv)\n",
    "import matplotlib.pyplot as plt\n",
    "import seaborn as sns\n",
    "import os\n",
    "# Input data files are available in the \"../input/\" directory.\n",
    "# For example, running this (by clicking run or pressing Shift+Enter) will list the files in the input directory\n",
    "\n",
    "from subprocess import check_output\n",
    "#print(check_output([\"dir\", \"../sberbank housing prediction\"],shell=True))   #print(check_output([\"ls\", \"../input\"]).decode(\"utf8\"))  适用于 POSIX-conforming systems\n",
    "#os.listdir()\n",
    "print(os.listdir())\n",
    "macro=pd.read_csv('macro.csv',parse_dates=['timestamp'])\n",
    "sample_submission=pd.read_csv('sample_submission.csv')\n",
    "test=pd.read_csv('test.csv',parse_dates=['timestamp'])\n",
    "train=pd.read_csv('train.csv',parse_dates=['timestamp'])\n"
   ]
  },
  {
   "cell_type": "code",
   "execution_count": 30,
   "metadata": {
    "collapsed": false,
    "scrolled": false
   },
   "outputs": [],
   "source": [
    "# 数据清洗以及特征选择\n",
    "#随机森林是否接受不变成哑变量的回归\n",
    "#对各种参数进行对比，并输出各种参数的三种score曲线\n",
    "#添加更多有意义的变量，对非法值进行填充\n",
    "#KFold\n",
    "\n",
    "#相关性分析\n",
    "#PCA\n",
    "\n",
    "\n",
    "#保留没有空值的字段,以及非类别字段\n",
    "# pd.options.display.max_seq_items = 1000   #控制是否完全打印\n",
    "# temp=pd.DataFrame(train.isnull().sum(),columns=['numberofNA'])\n",
    "# print (temp[temp['numberofNA']==0].index) #打印所有没有空值的字段\n",
    "\n",
    "from sklearn.preprocessing import StandardScaler\n",
    "from sklearn.preprocessing import Normalizer\n",
    "from sklearn.ensemble import RandomForestRegressor\n",
    "\n",
    "test.loc[test['product_type'].isnull()==True,'product_type']='Investment'  #替换NA值\n",
    "\n",
    "train_1=train[['id', 'timestamp', 'full_sq', 'area_m','product_type',\n",
    "       'raion_popul', 'green_zone_part', 'indust_part', 'children_preschool',\n",
    "       'preschool_education_centers_raion', 'children_school',\n",
    "       'school_education_centers_raion',\n",
    "       'school_education_centers_top_20_raion', 'healthcare_centers_raion',\n",
    "       'university_top_20_raion', 'sport_objects_raion',\n",
    "       'additional_education_raion',\n",
    "       'culture_objects_top_25_raion', 'shopping_centers_raion',\n",
    "       'office_raion',\n",
    "       'full_all', 'male_f', 'female_f', 'young_all', 'young_male',\n",
    "       'young_female', 'work_all', 'work_male', 'work_female', 'ekder_all',\n",
    "       'ekder_male', 'ekder_female', '0_6_all', '0_6_male', '0_6_female',\n",
    "       '7_14_all', '7_14_male', '7_14_female', '0_17_all', '0_17_male',\n",
    "       '0_17_female', '16_29_all', '16_29_male', '16_29_female', '0_13_all',\n",
    "       '0_13_male', '0_13_female', 'ID_metro', 'metro_min_avto',\n",
    "       'metro_km_avto', 'kindergarten_km', 'school_km', 'park_km',\n",
    "       'green_zone_km', 'industrial_km', 'water_treatment_km', 'cemetery_km',\n",
    "       'incineration_km', 'railroad_station_avto_km',\n",
    "       'railroad_station_avto_min', 'ID_railroad_station_avto',\n",
    "       'public_transport_station_km', 'public_transport_station_min_walk',\n",
    "       'water_km', 'mkad_km', 'ttk_km', 'sadovoe_km',\n",
    "       'bulvar_ring_km', 'kremlin_km', 'big_road1_km', 'ID_big_road1', 'big_road2_km', 'ID_big_road2', 'railroad_km', 'zd_vokzaly_avto_km', 'ID_railroad_terminal',\n",
    "       'bus_terminal_avto_km', 'ID_bus_terminal', 'oil_chemistry_km',\n",
    "       'nuclear_reactor_km', 'radiation_km', 'power_transmission_line_km',\n",
    "       'thermal_power_plant_km', 'ts_km', 'big_market_km', 'market_shop_km',\n",
    "       'fitness_km', 'swim_pool_km', 'ice_rink_km', 'stadium_km',\n",
    "       'basketball_km', 'hospice_morgue_km', 'detention_facility_km',\n",
    "       'public_healthcare_km', 'university_km', 'workplaces_km',\n",
    "       'shopping_centers_km', 'office_km', 'additional_education_km',\n",
    "       'preschool_km', 'big_church_km', 'church_synagogue_km', 'mosque_km',\n",
    "       'theater_km', 'museum_km', 'exhibition_km', 'catering_km',\n",
    "       'green_part_500', 'prom_part_500', 'office_count_500', 'office_sqm_500',\n",
    "       'trc_count_500', 'trc_sqm_500', 'cafe_count_500',\n",
    "       'cafe_count_500_na_price', 'cafe_count_500_price_500',\n",
    "       'cafe_count_500_price_1000', 'cafe_count_500_price_1500',\n",
    "       'cafe_count_500_price_2500', 'cafe_count_500_price_4000',\n",
    "       'cafe_count_500_price_high', 'big_church_count_500', 'church_count_500',\n",
    "       'mosque_count_500', 'leisure_count_500', 'sport_count_500',\n",
    "       'market_count_500', 'green_part_1000', 'prom_part_1000',\n",
    "       'office_count_1000', 'office_sqm_1000', 'trc_count_1000',\n",
    "       'trc_sqm_1000', 'cafe_count_1000', 'cafe_count_1000_na_price',\n",
    "       'cafe_count_1000_price_500', 'cafe_count_1000_price_1000',\n",
    "       'cafe_count_1000_price_1500', 'cafe_count_1000_price_2500',\n",
    "       'cafe_count_1000_price_4000', 'cafe_count_1000_price_high',\n",
    "       'big_church_count_1000', 'church_count_1000', 'mosque_count_1000',\n",
    "       'leisure_count_1000', 'sport_count_1000', 'market_count_1000',\n",
    "       'green_part_1500', 'prom_part_1500', 'office_count_1500',\n",
    "       'office_sqm_1500', 'trc_count_1500', 'trc_sqm_1500', 'cafe_count_1500',\n",
    "       'cafe_count_1500_na_price', 'cafe_count_1500_price_500',\n",
    "       'cafe_count_1500_price_1000', 'cafe_count_1500_price_1500',\n",
    "       'cafe_count_1500_price_2500', 'cafe_count_1500_price_4000',\n",
    "       'cafe_count_1500_price_high', 'big_church_count_1500',\n",
    "       'church_count_1500', 'mosque_count_1500', 'leisure_count_1500',\n",
    "       'sport_count_1500', 'market_count_1500',\n",
    "       'prom_part_2000', 'office_count_2000', 'office_sqm_2000',\n",
    "       'trc_count_2000', 'trc_sqm_2000', 'cafe_count_2000',\n",
    "       'cafe_count_2000_na_price', 'cafe_count_2000_price_500',\n",
    "       'cafe_count_2000_price_1000', 'cafe_count_2000_price_1500',\n",
    "       'cafe_count_2000_price_2500', 'cafe_count_2000_price_4000',\n",
    "       'cafe_count_2000_price_high', 'big_church_count_2000',\n",
    "       'church_count_2000', 'mosque_count_2000', 'leisure_count_2000',\n",
    "       'sport_count_2000', 'market_count_2000', 'green_part_3000',\n",
    "       'prom_part_3000', 'office_count_3000', 'office_sqm_3000',\n",
    "       'trc_count_3000', 'trc_sqm_3000', 'cafe_count_3000',\n",
    "       'cafe_count_3000_na_price', 'cafe_count_3000_price_500',\n",
    "       'cafe_count_3000_price_1000', 'cafe_count_3000_price_1500',\n",
    "       'cafe_count_3000_price_2500', 'cafe_count_3000_price_4000',\n",
    "       'cafe_count_3000_price_high', 'big_church_count_3000',\n",
    "       'church_count_3000', 'mosque_count_3000', 'leisure_count_3000',\n",
    "       'sport_count_3000', 'market_count_3000', 'green_part_5000',\n",
    "       'office_count_5000', 'office_sqm_5000', 'trc_count_5000',\n",
    "       'trc_sqm_5000', 'cafe_count_5000', 'cafe_count_5000_na_price',\n",
    "       'cafe_count_5000_price_500', 'cafe_count_5000_price_1000',\n",
    "       'cafe_count_5000_price_1500', 'cafe_count_5000_price_2500',\n",
    "       'cafe_count_5000_price_4000', 'cafe_count_5000_price_high',\n",
    "       'big_church_count_5000', 'church_count_5000', 'mosque_count_5000',\n",
    "       'leisure_count_5000', 'sport_count_5000', 'market_count_5000','price_doc']]\n",
    "test_1=test[['id', 'timestamp', 'full_sq', 'area_m','product_type',\n",
    "       'raion_popul', 'green_zone_part', 'indust_part', 'children_preschool',\n",
    "       'preschool_education_centers_raion', 'children_school',\n",
    "       'school_education_centers_raion',\n",
    "       'school_education_centers_top_20_raion', 'healthcare_centers_raion',\n",
    "       'university_top_20_raion', 'sport_objects_raion',\n",
    "       'additional_education_raion',\n",
    "       'culture_objects_top_25_raion', 'shopping_centers_raion',\n",
    "       'office_raion',\n",
    "       'full_all', 'male_f', 'female_f', 'young_all', 'young_male',\n",
    "       'young_female', 'work_all', 'work_male', 'work_female', 'ekder_all',\n",
    "       'ekder_male', 'ekder_female', '0_6_all', '0_6_male', '0_6_female',\n",
    "       '7_14_all', '7_14_male', '7_14_female', '0_17_all', '0_17_male',\n",
    "       '0_17_female', '16_29_all', '16_29_male', '16_29_female', '0_13_all',\n",
    "       '0_13_male', '0_13_female', 'ID_metro', 'metro_min_avto',\n",
    "       'metro_km_avto', 'kindergarten_km', 'school_km', 'park_km',\n",
    "       'green_zone_km', 'industrial_km', 'water_treatment_km', 'cemetery_km',\n",
    "       'incineration_km', 'railroad_station_avto_km',\n",
    "       'railroad_station_avto_min', 'ID_railroad_station_avto',\n",
    "       'public_transport_station_km', 'public_transport_station_min_walk',\n",
    "       'water_km', 'mkad_km', 'ttk_km', 'sadovoe_km',\n",
    "       'bulvar_ring_km', 'kremlin_km', 'big_road1_km', 'ID_big_road1', 'big_road2_km', 'ID_big_road2', 'railroad_km', 'zd_vokzaly_avto_km', 'ID_railroad_terminal',\n",
    "       'bus_terminal_avto_km', 'ID_bus_terminal', 'oil_chemistry_km',\n",
    "       'nuclear_reactor_km', 'radiation_km', 'power_transmission_line_km',\n",
    "       'thermal_power_plant_km', 'ts_km', 'big_market_km', 'market_shop_km',\n",
    "       'fitness_km', 'swim_pool_km', 'ice_rink_km', 'stadium_km',\n",
    "       'basketball_km', 'hospice_morgue_km', 'detention_facility_km',\n",
    "       'public_healthcare_km', 'university_km', 'workplaces_km',\n",
    "       'shopping_centers_km', 'office_km', 'additional_education_km',\n",
    "       'preschool_km', 'big_church_km', 'church_synagogue_km', 'mosque_km',\n",
    "       'theater_km', 'museum_km', 'exhibition_km', 'catering_km',\n",
    "       'green_part_500', 'prom_part_500', 'office_count_500', 'office_sqm_500',\n",
    "       'trc_count_500', 'trc_sqm_500', 'cafe_count_500',\n",
    "       'cafe_count_500_na_price', 'cafe_count_500_price_500',\n",
    "       'cafe_count_500_price_1000', 'cafe_count_500_price_1500',\n",
    "       'cafe_count_500_price_2500', 'cafe_count_500_price_4000',\n",
    "       'cafe_count_500_price_high', 'big_church_count_500', 'church_count_500',\n",
    "       'mosque_count_500', 'leisure_count_500', 'sport_count_500',\n",
    "       'market_count_500', 'green_part_1000', 'prom_part_1000',\n",
    "       'office_count_1000', 'office_sqm_1000', 'trc_count_1000',\n",
    "       'trc_sqm_1000', 'cafe_count_1000', 'cafe_count_1000_na_price',\n",
    "       'cafe_count_1000_price_500', 'cafe_count_1000_price_1000',\n",
    "       'cafe_count_1000_price_1500', 'cafe_count_1000_price_2500',\n",
    "       'cafe_count_1000_price_4000', 'cafe_count_1000_price_high',\n",
    "       'big_church_count_1000', 'church_count_1000', 'mosque_count_1000',\n",
    "       'leisure_count_1000', 'sport_count_1000', 'market_count_1000',\n",
    "       'green_part_1500', 'prom_part_1500', 'office_count_1500',\n",
    "       'office_sqm_1500', 'trc_count_1500', 'trc_sqm_1500', 'cafe_count_1500',\n",
    "       'cafe_count_1500_na_price', 'cafe_count_1500_price_500',\n",
    "       'cafe_count_1500_price_1000', 'cafe_count_1500_price_1500',\n",
    "       'cafe_count_1500_price_2500', 'cafe_count_1500_price_4000',\n",
    "       'cafe_count_1500_price_high', 'big_church_count_1500',\n",
    "       'church_count_1500', 'mosque_count_1500', 'leisure_count_1500',\n",
    "       'sport_count_1500', 'market_count_1500',\n",
    "       'prom_part_2000', 'office_count_2000', 'office_sqm_2000',\n",
    "       'trc_count_2000', 'trc_sqm_2000', 'cafe_count_2000',\n",
    "       'cafe_count_2000_na_price', 'cafe_count_2000_price_500',\n",
    "       'cafe_count_2000_price_1000', 'cafe_count_2000_price_1500',\n",
    "       'cafe_count_2000_price_2500', 'cafe_count_2000_price_4000',\n",
    "       'cafe_count_2000_price_high', 'big_church_count_2000',\n",
    "       'church_count_2000', 'mosque_count_2000', 'leisure_count_2000',\n",
    "       'sport_count_2000', 'market_count_2000', 'green_part_3000',\n",
    "       'prom_part_3000', 'office_count_3000', 'office_sqm_3000',\n",
    "       'trc_count_3000', 'trc_sqm_3000', 'cafe_count_3000',\n",
    "       'cafe_count_3000_na_price', 'cafe_count_3000_price_500',\n",
    "       'cafe_count_3000_price_1000', 'cafe_count_3000_price_1500',\n",
    "       'cafe_count_3000_price_2500', 'cafe_count_3000_price_4000',\n",
    "       'cafe_count_3000_price_high', 'big_church_count_3000',\n",
    "       'church_count_3000', 'mosque_count_3000', 'leisure_count_3000',\n",
    "       'sport_count_3000', 'market_count_3000', 'green_part_5000',\n",
    "       'office_count_5000', 'office_sqm_5000', 'trc_count_5000',\n",
    "       'trc_sqm_5000', 'cafe_count_5000', 'cafe_count_5000_na_price',\n",
    "       'cafe_count_5000_price_500', 'cafe_count_5000_price_1000',\n",
    "       'cafe_count_5000_price_1500', 'cafe_count_5000_price_2500',\n",
    "       'cafe_count_5000_price_4000', 'cafe_count_5000_price_high',\n",
    "       'big_church_count_5000', 'church_count_5000', 'mosque_count_5000',\n",
    "       'leisure_count_5000', 'sport_count_5000', 'market_count_5000']]\n",
    "\n",
    "\n",
    "macro_1=macro[['timestamp','oil_urals','gdp_annual','gdp_annual_growth','average_provision_of_build_contract',\n",
    "'deposits_value','mortgage_value','mortgage_rate','fixed_basket']]\n",
    "\n",
    "\n",
    "#将类别变量变换为哑变量\n",
    "dummies = pd.get_dummies(train_1['product_type'], prefix='product_type')\n",
    "train_1=train_1.join(dummies).drop('product_type',axis=1)\n",
    "\n",
    "dummies = pd.get_dummies(test_1['product_type'], prefix='product_type')\n",
    "test_1=test_1.join(dummies).drop('product_type',axis=1)\n"
   ]
  },
  {
   "cell_type": "code",
   "execution_count": 31,
   "metadata": {
    "collapsed": false,
    "scrolled": false
   },
   "outputs": [],
   "source": [
    "train_withmacro=pd.merge(train_1,macro_1,on='timestamp')\n",
    "test_withmacro=pd.merge(test_1,macro_1,on='timestamp')\n",
    "samples_y=train_withmacro['price_doc']\n",
    "samples_x=train_withmacro.drop(['price_doc'],axis=1)\n",
    "\n",
    "\n",
    "\n",
    "#标准化\n",
    "\n",
    "samples_x=samples_x.drop(['id','timestamp'], axis=1)\n",
    "test_x=test_withmacro.drop(['id','timestamp'], axis=1)\n",
    "\n",
    "normalize=Normalizer()   \n",
    "scaler=StandardScaler()\n",
    "\n",
    "\n",
    "\n",
    "samples_x=scaler.fit_transform(samples_x)\n",
    "test_x=scaler.transform(test_x)\n",
    "# samples_x=normalize.fit_transform(samples_x)\n",
    "# test_x=normalize.transform(test_x)\n",
    "# samples_x=rfr.fit_transform(samples_x,None)\n",
    "# test_x=rfr.transform(test_x)\n"
   ]
  },
  {
   "cell_type": "code",
   "execution_count": 32,
   "metadata": {
    "collapsed": true,
    "scrolled": true
   },
   "outputs": [],
   "source": [
    "from sklearn.cross_validation import train_test_split\n",
    "temp_x,verify_x,temp_y,verify_y=train_test_split(samples_x,samples_y,test_size=0.25,random_state=42)\n",
    "train_x,validation_x,train_y,validation_y=train_test_split(temp_x,temp_y,test_size=0.5,random_state=42)\n"
   ]
  },
  {
   "cell_type": "code",
   "execution_count": 33,
   "metadata": {
    "collapsed": false
   },
   "outputs": [
    {
     "data": {
      "text/plain": [
       "RandomForestRegressor(bootstrap=True, criterion='mse', max_depth=None,\n",
       "           max_features='auto', max_leaf_nodes=None, min_samples_leaf=1,\n",
       "           min_samples_split=2, min_weight_fraction_leaf=0.0,\n",
       "           n_estimators=20, n_jobs=1, oob_score=True, random_state=None,\n",
       "           verbose=0, warm_start=False)"
      ]
     },
     "execution_count": 33,
     "metadata": {},
     "output_type": "execute_result"
    }
   ],
   "source": [
    "rfr = RandomForestRegressor(n_estimators=20,oob_score=True)\n",
    "rfr.fit(train_x,train_y)\n"
   ]
  },
  {
   "cell_type": "code",
   "execution_count": 34,
   "metadata": {
    "collapsed": false,
    "scrolled": true
   },
   "outputs": [
    {
     "name": "stdout",
     "output_type": "stream",
     "text": [
      "the score for train set itself: 0.941818581662\n",
      "the score for validation set: 0.633961064075\n",
      "the score for verify set: 0.635985010672\n"
     ]
    }
   ],
   "source": [
    "#cross validation evaluation\n",
    "print ('the score for train set itself:',rfr.score(train_x,train_y))\n",
    "print ('the score for validation set:',rfr.score(validation_x,validation_y))\n",
    "print ('the score for verify set:',rfr.score(verify_x,verify_y))"
   ]
  },
  {
   "cell_type": "code",
   "execution_count": 23,
   "metadata": {
    "collapsed": false
   },
   "outputs": [
    {
     "data": {
      "text/plain": [
       "array([  5144105.05 ,   8725710.325,   5461000.   , ...,   4727374.05 ,\n",
       "         5523000.   ,  10563929.35 ])"
      ]
     },
     "execution_count": 23,
     "metadata": {},
     "output_type": "execute_result"
    }
   ],
   "source": [
    "# output the prediction\n",
    "rfr.predict(test_x)\n"
   ]
  },
  {
   "cell_type": "code",
   "execution_count": 24,
   "metadata": {
    "collapsed": false,
    "scrolled": false
   },
   "outputs": [
    {
     "name": "stdout",
     "output_type": "stream",
     "text": [
      "Your sklearn version is 0.17.1\n"
     ]
    }
   ],
   "source": [
    "rfr.apply(train_x)\n",
    "rfr.get_params(deep=True)\n",
    "rfr.oob_score_\n",
    "import sklearn\n",
    "print('Your sklearn version is {}'.format(sklearn.__version__))"
   ]
  },
  {
   "cell_type": "code",
   "execution_count": 22,
   "metadata": {
    "collapsed": false
   },
   "outputs": [
    {
     "data": {
      "text/plain": [
       "(7662, 232)"
      ]
     },
     "execution_count": 22,
     "metadata": {},
     "output_type": "execute_result"
    }
   ],
   "source": [
    "test_x.shape"
   ]
  },
  {
   "cell_type": "code",
   "execution_count": null,
   "metadata": {
    "collapsed": true
   },
   "outputs": [],
   "source": []
  }
 ],
 "metadata": {
  "anaconda-cloud": {},
  "kernelspec": {
   "display_name": "Python [conda root]",
   "language": "python",
   "name": "conda-root-py"
  },
  "language_info": {
   "codemirror_mode": {
    "name": "ipython",
    "version": 3
   },
   "file_extension": ".py",
   "mimetype": "text/x-python",
   "name": "python",
   "nbconvert_exporter": "python",
   "pygments_lexer": "ipython3",
   "version": "3.5.2"
  }
 },
 "nbformat": 4,
 "nbformat_minor": 1
}
