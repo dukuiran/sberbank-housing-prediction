{
 "cells": [
  {
   "cell_type": "code",
   "execution_count": 2,
   "metadata": {
    "collapsed": false
   },
   "outputs": [],
   "source": [
    "    # These lines are comments\n",
    "    # Initial setup from an online python notebook tutorial is below. \n",
    "    # Note the first line \"%matplotlib inline\" means plot appear in this page without a new opened window.\n",
    "    # Two solutions 1. use: \"%matplotlib notebook\" graphs appear dynamic in the notebook.\n",
    "    #               2. use: \"%matplotlib\" (only) graphs appear dynamic in separate window. \n",
    "    #    ( 2. is the best solution for detailed graphs/plots. )\n",
    "    #inline \n",
    "    # -*- coding: utf-8 -*-\n",
    "    \n",
    "    %matplotlib qt5\n",
    "    import pandas as pd\n",
    "    import numpy as np\n",
    "    import matplotlib as mpl\n",
    "    import matplotlib.pyplot as plt\n",
    "    from mpl_toolkits.mplot3d import Axes3D\n",
    "\n",
    "    pd.set_option('html',False)\n",
    "    pd.set_option('max_columns',30)\n",
    "    pd.set_option('max_rows',10)\n",
    "\n",
    "\n",
    "    # What follows is a copy of the 3D plot example code.\n",
    "    # Data is randomly generated so there is no external data import.\n",
    "\n",
    "    def randrange(n, vmin, vmax):\n",
    "        return (vmax-vmin)*np.random.rand(n) + vmin\n",
    "\n",
    "    fig = plt.figure()\n",
    "    ax = fig.add_subplot(111, projection='3d')\n",
    "    n = 100\n",
    "    for c, m, zl, zh in [('r', 'o', -60, -25), ('b', '^', -30, -5)]:\n",
    "        xs = randrange(n, 23, 50)\n",
    "        #print (\"xs:\",xs)\n",
    "        ys = randrange(n, 0, 100)\n",
    "        #print (\"ys:\",ys)\n",
    "        zs = randrange(n, zl, zh)\n",
    "        #print (\"zs:\",zs)\n",
    "        #print (c,m)\n",
    "        ax.scatter(xs, ys, zs, c=c, marker=m)\n",
    "\n",
    "    ax.set_xlabel('traffic')\n",
    "    ax.set_ylabel('value')\n",
    "    ax.set_zlabel('peroid')\n",
    "\n",
    "    plt.show()"
   ]
  },
  {
   "cell_type": "code",
   "execution_count": 2,
   "metadata": {
    "collapsed": false
   },
   "outputs": [],
   "source": [
    "%matplotlib qt5\n",
    "import pylab as plt\n",
    "from mpl_toolkits.mplot3d import Axes3D\n",
    "import numpy as np\n",
    "\n",
    "my_data = np.random.rand(6500,3)  # toy 3D points\n",
    "\n",
    "fig = plt.figure()\n",
    "ax = Axes3D(plt.gcf())\n",
    "ax.scatter(my_data[:,0],my_data[:,1],my_data[:,2])\n",
    "plt.show()"
   ]
  },
  {
   "cell_type": "code",
   "execution_count": 2,
   "metadata": {
    "collapsed": false
   },
   "outputs": [
    {
     "name": "stdout",
     "output_type": "stream",
     "text": [
      "['.git', '.ipynb_checkpoints', 'dataexplorer.ipynb', 'data_dictionary.txt', 'macro.csv', 'ridge regression test.ipynb', 'ridge_plot.png', 'run_at_here.bat', 'sample_submission.csv', 'test.csv', 'train.csv', '__MACOSX']\n"
     ]
    }
   ],
   "source": [
    "import numpy as np # linear algebra\n",
    "import pandas as pd # data processing, CSV file I/O (e.g. pd.read_csv)\n",
    "import matplotlib.pyplot as plt\n",
    "import seaborn as sns\n",
    "import os\n",
    "# Input data files are available in the \"../input/\" directory.\n",
    "# For example, running this (by clicking run or pressing Shift+Enter) will list the files in the input directory\n",
    "\n",
    "from subprocess import check_output\n",
    "#print(check_output([\"dir\", \"../sberbank housing prediction\"],shell=True))   #print(check_output([\"ls\", \"../input\"]).decode(\"utf8\"))  适用于 POSIX-conforming systems\n",
    "#os.listdir()\n",
    "print(os.listdir())\n",
    "macro=pd.read_csv('macro.csv',parse_dates=['timestamp'])\n",
    "sample_submission=pd.read_csv('sample_submission.csv')\n",
    "test=pd.read_csv('test.csv',parse_dates=['timestamp'])\n",
    "train=pd.read_csv('train.csv',parse_dates=['timestamp'])\n"
   ]
  },
  {
   "cell_type": "code",
   "execution_count": 10,
   "metadata": {
    "collapsed": false
   },
   "outputs": [
    {
     "name": "stdout",
     "output_type": "stream",
     "text": [
      "(30471, 292)\n",
      "id                                           0\n",
      "timestamp                                    0\n",
      "full_sq                                      0\n",
      "life_sq                                   6383\n",
      "floor                                      167\n",
      "max_floor                                 9572\n",
      "material                                  9572\n",
      "build_year                               13605\n",
      "num_room                                  9572\n",
      "kitch_sq                                  9572\n",
      "state                                    13559\n",
      "product_type                                 0\n",
      "sub_area                                     0\n",
      "area_m                                       0\n",
      "raion_popul                                  0\n",
      "green_zone_part                              0\n",
      "indust_part                                  0\n",
      "children_preschool                           0\n",
      "preschool_quota                           6688\n",
      "preschool_education_centers_raion            0\n",
      "children_school                              0\n",
      "school_quota                              6685\n",
      "school_education_centers_raion               0\n",
      "school_education_centers_top_20_raion        0\n",
      "hospital_beds_raion                      14441\n",
      "healthcare_centers_raion                     0\n",
      "university_top_20_raion                      0\n",
      "sport_objects_raion                          0\n",
      "additional_education_raion                   0\n",
      "culture_objects_top_25                       0\n",
      "                                         ...  \n",
      "big_church_count_3000                        0\n",
      "church_count_3000                            0\n",
      "mosque_count_3000                            0\n",
      "leisure_count_3000                           0\n",
      "sport_count_3000                             0\n",
      "market_count_3000                            0\n",
      "green_part_5000                              0\n",
      "prom_part_5000                             178\n",
      "office_count_5000                            0\n",
      "office_sqm_5000                              0\n",
      "trc_count_5000                               0\n",
      "trc_sqm_5000                                 0\n",
      "cafe_count_5000                              0\n",
      "cafe_sum_5000_min_price_avg                297\n",
      "cafe_sum_5000_max_price_avg                297\n",
      "cafe_avg_price_5000                        297\n",
      "cafe_count_5000_na_price                     0\n",
      "cafe_count_5000_price_500                    0\n",
      "cafe_count_5000_price_1000                   0\n",
      "cafe_count_5000_price_1500                   0\n",
      "cafe_count_5000_price_2500                   0\n",
      "cafe_count_5000_price_4000                   0\n",
      "cafe_count_5000_price_high                   0\n",
      "big_church_count_5000                        0\n",
      "church_count_5000                            0\n",
      "mosque_count_5000                            0\n",
      "leisure_count_5000                           0\n",
      "sport_count_5000                             0\n",
      "market_count_5000                            0\n",
      "price_doc                                    0\n",
      "dtype: int64\n",
      "macro shape: (2484, 100)\n",
      "timestamp                                        0\n",
      "oil_urals                                        0\n",
      "gdp_quart                                       90\n",
      "gdp_quart_growth                                90\n",
      "cpi                                             31\n",
      "ppi                                             31\n",
      "gdp_deflator                                   365\n",
      "balance_trade                                   31\n",
      "balance_trade_growth                            90\n",
      "usdrub                                           3\n",
      "eurrub                                           3\n",
      "brent                                            3\n",
      "net_capital_export                             396\n",
      "gdp_annual                                       0\n",
      "gdp_annual_growth                                0\n",
      "average_provision_of_build_contract              0\n",
      "average_provision_of_build_contract_moscow     365\n",
      "rts                                             10\n",
      "micex                                           10\n",
      "micex_rgbi_tr                                   10\n",
      "micex_cbi_tr                                     1\n",
      "deposits_value                                   0\n",
      "deposits_growth                                 31\n",
      "deposits_rate                                  414\n",
      "mortgage_value                                   0\n",
      "mortgage_growth                                365\n",
      "mortgage_rate                                    0\n",
      "grp                                            658\n",
      "grp_growth                                    1023\n",
      "income_per_cap                                 293\n",
      "                                              ... \n",
      "rent_price_4+room_bus                          273\n",
      "rent_price_3room_bus                           273\n",
      "rent_price_2room_bus                           273\n",
      "rent_price_1room_bus                           273\n",
      "rent_price_3room_eco                           273\n",
      "rent_price_2room_eco                           273\n",
      "rent_price_1room_eco                           273\n",
      "load_of_teachers_preschool_per_teacher        1023\n",
      "child_on_acc_pre_school                        658\n",
      "load_of_teachers_school_per_teacher            293\n",
      "students_state_oneshift                        658\n",
      "modern_education_share                        1389\n",
      "old_education_build_share                     1389\n",
      "provision_doctors                              658\n",
      "provision_nurse                                293\n",
      "load_on_doctors                                293\n",
      "power_clinics                                  658\n",
      "hospital_beds_available_per_cap               1023\n",
      "hospital_bed_occupancy_per_year               1023\n",
      "provision_retail_space_sqm                    1753\n",
      "provision_retail_space_modern_sqm             1754\n",
      "turnover_catering_per_cap                      293\n",
      "theaters_viewers_per_1000_cap                 1023\n",
      "seats_theather_rfmin_per_100000_cap            293\n",
      "museum_visitis_per_100_cap                    1023\n",
      "bandwidth_sports                               658\n",
      "population_reg_sports_share                   1023\n",
      "students_reg_sports_share                     1023\n",
      "apartment_build                                658\n",
      "apartment_fund_sqm                             658\n",
      "dtype: int64\n"
     ]
    },
    {
     "data": {
      "text/plain": [
       "id                                                int64\n",
       "timestamp                                datetime64[ns]\n",
       "full_sq                                           int64\n",
       "life_sq                                         float64\n",
       "floor                                           float64\n",
       "max_floor                                       float64\n",
       "material                                        float64\n",
       "build_year                                      float64\n",
       "num_room                                        float64\n",
       "kitch_sq                                        float64\n",
       "state                                           float64\n",
       "product_type                                     object\n",
       "sub_area                                         object\n",
       "area_m                                          float64\n",
       "raion_popul                                       int64\n",
       "green_zone_part                                 float64\n",
       "indust_part                                     float64\n",
       "children_preschool                                int64\n",
       "preschool_quota                                 float64\n",
       "preschool_education_centers_raion                 int64\n",
       "children_school                                   int64\n",
       "school_quota                                    float64\n",
       "school_education_centers_raion                    int64\n",
       "school_education_centers_top_20_raion             int64\n",
       "hospital_beds_raion                             float64\n",
       "healthcare_centers_raion                          int64\n",
       "university_top_20_raion                           int64\n",
       "sport_objects_raion                               int64\n",
       "additional_education_raion                        int64\n",
       "culture_objects_top_25                           object\n",
       "                                              ...      \n",
       "big_church_count_3000                             int64\n",
       "church_count_3000                                 int64\n",
       "mosque_count_3000                                 int64\n",
       "leisure_count_3000                                int64\n",
       "sport_count_3000                                  int64\n",
       "market_count_3000                                 int64\n",
       "green_part_5000                                 float64\n",
       "prom_part_5000                                  float64\n",
       "office_count_5000                                 int64\n",
       "office_sqm_5000                                   int64\n",
       "trc_count_5000                                    int64\n",
       "trc_sqm_5000                                      int64\n",
       "cafe_count_5000                                   int64\n",
       "cafe_sum_5000_min_price_avg                     float64\n",
       "cafe_sum_5000_max_price_avg                     float64\n",
       "cafe_avg_price_5000                             float64\n",
       "cafe_count_5000_na_price                          int64\n",
       "cafe_count_5000_price_500                         int64\n",
       "cafe_count_5000_price_1000                        int64\n",
       "cafe_count_5000_price_1500                        int64\n",
       "cafe_count_5000_price_2500                        int64\n",
       "cafe_count_5000_price_4000                        int64\n",
       "cafe_count_5000_price_high                        int64\n",
       "big_church_count_5000                             int64\n",
       "church_count_5000                                 int64\n",
       "mosque_count_5000                                 int64\n",
       "leisure_count_5000                                int64\n",
       "sport_count_5000                                  int64\n",
       "market_count_5000                                 int64\n",
       "price_doc                                         int64\n",
       "dtype: object"
      ]
     },
     "execution_count": 10,
     "metadata": {},
     "output_type": "execute_result"
    }
   ],
   "source": [
    "# 数据清洗以及特征选择\n",
    "\n",
    "\n",
    "#相关性分析\n",
    "#PCA\n",
    "#是否可引入类别判断，基于随机森林的回归\n",
    "\n",
    "#保留没有空值的字段\n",
    "temp=pd.DataFrame(train.isnull().sum(),columns=['numberofNA'])\n",
    "train_1=train[temp[temp['numberofNA']==0].index]\n",
    "test_1=test[temp[temp['numberofNA']==0].index]\n",
    "macro_1=\n",
    "\n",
    "\n",
    "\n",
    "#去掉非数值型字段\n",
    "\n",
    "\n",
    "# train.columns\n",
    "# print(train.head(5))\n",
    "print(train.isnull().sum())\n",
    "print('macro shape:',macro.shape)\n",
    "print(macro.isnull().sum())\n",
    "# train.state.unique()\n",
    "train.dtypes\n",
    "# macro.dtypes\n",
    "# macro.head(5)"
   ]
  },
  {
   "cell_type": "code",
   "execution_count": 75,
   "metadata": {
    "collapsed": true
   },
   "outputs": [],
   "source": [
    "train_withmacro=pd.merge(train,macro,on='timestamp')\n",
    "test_withmacro=pd.merge(test,macro,on='timestamp')\n",
    "samples_y=train_withmacro['price_doc']\n",
    "samples_x=train_withmacro.drop(['price_doc'],axis=1)"
   ]
  },
  {
   "cell_type": "code",
   "execution_count": 81,
   "metadata": {
    "collapsed": false
   },
   "outputs": [],
   "source": [
    "from sklearn.cross_validation import train_test_split\n",
    "temp_x,test_x,temp_y,test_y=train_test_split(samples_x,samples_y,test_size=0.25,random_state=42)\n",
    "train_x,validation_x,train_y,validation_y=train_test_split(temp_x,temp_y,test_size=0.5,random_state=42)\n",
    "\n",
    "#train_withmacro.head(5)\n"
   ]
  },
  {
   "cell_type": "code",
   "execution_count": null,
   "metadata": {
    "collapsed": true
   },
   "outputs": [],
   "source": [
    "from sklearn import linear_model\n",
    "n_alphas = 200\n",
    "alphas = np.logspace(-10, -2, n_alphas)\n",
    "\n",
    "clf = linear_model.Ridge(alpha = .5)\n",
    "clf.fit ([[0, 0], [0, 0], [1, 1]], [0, .1, 1])\n",
    "Ridge(alpha=0.5, copy_X=True, fit_intercept=True, max_iter=None,normalize=False, random_state=None, solver='auto', tol=0.001)"
   ]
  },
  {
   "cell_type": "code",
   "execution_count": 83,
   "metadata": {
    "collapsed": false
   },
   "outputs": [
    {
     "name": "stdout",
     "output_type": "stream",
     "text": [
      "(11426, 390)\n",
      "(11426,)\n",
      "(11427, 390)\n",
      "(11427,)\n",
      "(7618, 390)\n",
      "(7618,)\n",
      "Your sklearn version is 0.17.1\n"
     ]
    }
   ],
   "source": [
    "print(train_x.shape)\n",
    "print(train_y.shape)\n",
    "print(validation_x.shape)\n",
    "print(validation_y.shape)\n",
    "print(test_x.shape)\n",
    "print(test_y.shape)\n",
    "import sklearn\n",
    "print('Your sklearn version is {}'.format(sklearn.__version__))"
   ]
  },
  {
   "cell_type": "code",
   "execution_count": 15,
   "metadata": {
    "collapsed": false
   },
   "outputs": [
    {
     "data": {
      "text/plain": [
       "0"
      ]
     },
     "execution_count": 15,
     "metadata": {},
     "output_type": "execute_result"
    }
   ],
   "source": [
    "sample_submission\n",
    "sample_submission.head(5)\n",
    "type(train.isnull().sum())\n",
    "result=train.isnull().sum()\n",
    "result[2]"
   ]
  },
  {
   "cell_type": "code",
   "execution_count": 51,
   "metadata": {
    "collapsed": false
   },
   "outputs": [
    {
     "data": {
      "text/plain": [
       "3.0     0.099921\n",
       "2.0     0.094839\n",
       "5.0     0.090813\n",
       "4.0     0.086094\n",
       "1.0     0.066064\n",
       "7.0     0.064876\n",
       "6.0     0.061972\n",
       "9.0     0.060817\n",
       "8.0     0.060388\n",
       "12.0    0.044252\n",
       "10.0    0.043130\n",
       "11.0    0.041645\n",
       "14.0    0.033032\n",
       "13.0    0.030293\n",
       "16.0    0.026762\n",
       "17.0    0.026234\n",
       "15.0    0.024650\n",
       "18.0    0.007623\n",
       "19.0    0.006996\n",
       "20.0    0.005940\n",
       "22.0    0.005709\n",
       "21.0    0.004554\n",
       "23.0    0.004125\n",
       "25.0    0.003432\n",
       "24.0    0.003300\n",
       "26.0    0.000462\n",
       "32.0    0.000462\n",
       "0.0     0.000297\n",
       "27.0    0.000231\n",
       "28.0    0.000198\n",
       "30.0    0.000198\n",
       "31.0    0.000165\n",
       "29.0    0.000099\n",
       "34.0    0.000099\n",
       "44.0    0.000066\n",
       "36.0    0.000066\n",
       "37.0    0.000066\n",
       "33.0    0.000033\n",
       "38.0    0.000033\n",
       "41.0    0.000033\n",
       "77.0    0.000033\n",
       "Name: floor, dtype: float64"
      ]
     },
     "execution_count": 51,
     "metadata": {},
     "output_type": "execute_result"
    }
   ],
   "source": [
    "temp[temp.numberofNA==0].index  #[temp==0]\n",
    "# temp.describe()\n",
    "train['floor'].value_counts(np.nan)"
   ]
  },
  {
   "cell_type": "code",
   "execution_count": 58,
   "metadata": {
    "collapsed": false
   },
   "outputs": [
    {
     "name": "stdout",
     "output_type": "stream",
     "text": [
      "Index(['id', 'timestamp', 'full_sq', 'product_type', 'sub_area', 'area_m',\n",
      "       'raion_popul', 'green_zone_part', 'indust_part', 'children_preschool',\n",
      "       ...\n",
      "       'cafe_count_5000_price_2500', 'cafe_count_5000_price_4000',\n",
      "       'cafe_count_5000_price_high', 'big_church_count_5000',\n",
      "       'church_count_5000', 'mosque_count_5000', 'leisure_count_5000',\n",
      "       'sport_count_5000', 'market_count_5000', 'price_doc'],\n",
      "      dtype='object', length=241)\n"
     ]
    }
   ],
   "source": [
    "print(temp[temp['numberofNA']==0].index)"
   ]
  },
  {
   "cell_type": "code",
   "execution_count": null,
   "metadata": {
    "collapsed": true
   },
   "outputs": [],
   "source": []
  }
 ],
 "metadata": {
  "anaconda-cloud": {},
  "kernelspec": {
   "display_name": "Python [conda root]",
   "language": "python",
   "name": "conda-root-py"
  },
  "language_info": {
   "codemirror_mode": {
    "name": "ipython",
    "version": 3
   },
   "file_extension": ".py",
   "mimetype": "text/x-python",
   "name": "python",
   "nbconvert_exporter": "python",
   "pygments_lexer": "ipython3",
   "version": "3.5.2"
  }
 },
 "nbformat": 4,
 "nbformat_minor": 1
}
