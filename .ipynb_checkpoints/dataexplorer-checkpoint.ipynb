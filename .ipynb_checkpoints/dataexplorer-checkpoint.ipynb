{
 "cells": [
  {
   "cell_type": "code",
   "execution_count": 2,
   "metadata": {
    "collapsed": true,
    "scrolled": true
   },
   "outputs": [],
   "source": [
    "    # These lines are comments\n",
    "    # Initial setup from an online python notebook tutorial is below. \n",
    "    # Note the first line \"%matplotlib inline\" means plot appear in this page without a new opened window.\n",
    "    # Two solutions 1. use: \"%matplotlib notebook\" graphs appear dynamic in the notebook.\n",
    "    #               2. use: \"%matplotlib\" (only) graphs appear dynamic in separate window. \n",
    "    #    ( 2. is the best solution for detailed graphs/plots. )\n",
    "    #inline \n",
    "    # -*- coding: utf-8 -*-\n",
    "    \n",
    "    %matplotlib qt5\n",
    "    import pandas as pd\n",
    "    import numpy as np\n",
    "    import matplotlib as mpl\n",
    "    import matplotlib.pyplot as plt\n",
    "    from mpl_toolkits.mplot3d import Axes3D\n",
    "\n",
    "    pd.set_option('html',False)\n",
    "    pd.set_option('max_columns',30)\n",
    "    pd.set_option('max_rows',10)\n",
    "\n",
    "\n",
    "    # What follows is a copy of the 3D plot example code.\n",
    "    # Data is randomly generated so there is no external data import.\n",
    "\n",
    "    def randrange(n, vmin, vmax):\n",
    "        return (vmax-vmin)*np.random.rand(n) + vmin\n",
    "\n",
    "    fig = plt.figure()\n",
    "    ax = fig.add_subplot(111, projection='3d')\n",
    "    n = 100\n",
    "    for c, m, zl, zh in [('r', 'o', -60, -25), ('b', '^', -30, -5)]:\n",
    "        xs = randrange(n, 23, 50)\n",
    "        #print (\"xs:\",xs)\n",
    "        ys = randrange(n, 0, 100)\n",
    "        #print (\"ys:\",ys)\n",
    "        zs = randrange(n, zl, zh)\n",
    "        #print (\"zs:\",zs)\n",
    "        #print (c,m)\n",
    "        ax.scatter(xs, ys, zs, c=c, marker=m)\n",
    "\n",
    "    ax.set_xlabel('traffic')\n",
    "    ax.set_ylabel('value')\n",
    "    ax.set_zlabel('peroid')\n",
    "\n",
    "    plt.show()"
   ]
  },
  {
   "cell_type": "code",
   "execution_count": 2,
   "metadata": {
    "collapsed": true,
    "scrolled": true
   },
   "outputs": [],
   "source": [
    "%matplotlib qt5\n",
    "import pylab as plt\n",
    "from mpl_toolkits.mplot3d import Axes3D\n",
    "import numpy as np\n",
    "\n",
    "my_data = np.random.rand(6500,3)  # toy 3D points\n",
    "\n",
    "fig = plt.figure()\n",
    "ax = Axes3D(plt.gcf())\n",
    "ax.scatter(my_data[:,0],my_data[:,1],my_data[:,2])\n",
    "plt.show()"
   ]
  },
  {
   "cell_type": "code",
   "execution_count": 205,
   "metadata": {
    "collapsed": false,
    "scrolled": true
   },
   "outputs": [
    {
     "name": "stdout",
     "output_type": "stream",
     "text": [
      "['.git', '.ipynb_checkpoints', 'dataexplorer.ipynb', 'data_dictionary.txt', 'historical score.txt', 'macro.csv', 'ridge regression test.ipynb', 'ridge_plot.png', 'run_at_here.bat', 'sample_submission.csv', 'test.csv', 'train.csv', '__MACOSX']\n"
     ]
    }
   ],
   "source": [
    "import numpy as np # linear algebra\n",
    "import pandas as pd # data processing, CSV file I/O (e.g. pd.read_csv)\n",
    "import matplotlib.pyplot as plt\n",
    "import seaborn as sns\n",
    "import os\n",
    "# Input data files are available in the \"../input/\" directory.\n",
    "# For example, running this (by clicking run or pressing Shift+Enter) will list the files in the input directory\n",
    "\n",
    "from subprocess import check_output\n",
    "#print(check_output([\"dir\", \"../sberbank housing prediction\"],shell=True))   #print(check_output([\"ls\", \"../input\"]).decode(\"utf8\"))  适用于 POSIX-conforming systems\n",
    "#os.listdir()\n",
    "print(os.listdir())\n",
    "macro=pd.read_csv('macro.csv',parse_dates=['timestamp'])\n",
    "sample_submission=pd.read_csv('sample_submission.csv')\n",
    "test=pd.read_csv('test.csv',parse_dates=['timestamp'])\n",
    "train=pd.read_csv('train.csv',parse_dates=['timestamp'])\n"
   ]
  },
  {
   "cell_type": "code",
   "execution_count": 219,
   "metadata": {
    "collapsed": false,
    "scrolled": false
   },
   "outputs": [],
   "source": [
    "# 数据清洗以及特征选择\n",
    "\n",
    "\n",
    "#相关性分析\n",
    "#PCA\n",
    "#是否可引入类别判断，基于随机森林的回归\n",
    "\n",
    "#保留没有空值的字段,以及非类别字段\n",
    "# pd.options.display.max_seq_items = 1000   #控制是否完全打印\n",
    "# temp=pd.DataFrame(train.isnull().sum(),columns=['numberofNA'])\n",
    "# print (temp[temp['numberofNA']==0].index) #打印所有没有空值的字段\n",
    "\n",
    "test.loc[test['product_type'].isnull()==True,'product_type']='Investment'  #替换NA值\n",
    "\n",
    "train_1=train[['id', 'timestamp', 'full_sq', 'area_m','product_type',\n",
    "       'raion_popul', 'green_zone_part', 'indust_part', 'children_preschool',\n",
    "       'preschool_education_centers_raion', 'children_school',\n",
    "       'school_education_centers_raion',\n",
    "       'school_education_centers_top_20_raion', 'healthcare_centers_raion',\n",
    "       'university_top_20_raion', 'sport_objects_raion',\n",
    "       'additional_education_raion',\n",
    "       'culture_objects_top_25_raion', 'shopping_centers_raion',\n",
    "       'office_raion',\n",
    "       'full_all', 'male_f', 'female_f', 'young_all', 'young_male',\n",
    "       'young_female', 'work_all', 'work_male', 'work_female', 'ekder_all',\n",
    "       'ekder_male', 'ekder_female', '0_6_all', '0_6_male', '0_6_female',\n",
    "       '7_14_all', '7_14_male', '7_14_female', '0_17_all', '0_17_male',\n",
    "       '0_17_female', '16_29_all', '16_29_male', '16_29_female', '0_13_all',\n",
    "       '0_13_male', '0_13_female', 'ID_metro', 'metro_min_avto',\n",
    "       'metro_km_avto', 'kindergarten_km', 'school_km', 'park_km',\n",
    "       'green_zone_km', 'industrial_km', 'water_treatment_km', 'cemetery_km',\n",
    "       'incineration_km', 'railroad_station_avto_km',\n",
    "       'railroad_station_avto_min', 'ID_railroad_station_avto',\n",
    "       'public_transport_station_km', 'public_transport_station_min_walk',\n",
    "       'water_km', 'mkad_km', 'ttk_km', 'sadovoe_km',\n",
    "       'bulvar_ring_km', 'kremlin_km', 'big_road1_km', 'ID_big_road1', 'big_road2_km', 'ID_big_road2', 'railroad_km', 'zd_vokzaly_avto_km', 'ID_railroad_terminal',\n",
    "       'bus_terminal_avto_km', 'ID_bus_terminal', 'oil_chemistry_km',\n",
    "       'nuclear_reactor_km', 'radiation_km', 'power_transmission_line_km',\n",
    "       'thermal_power_plant_km', 'ts_km', 'big_market_km', 'market_shop_km',\n",
    "       'fitness_km', 'swim_pool_km', 'ice_rink_km', 'stadium_km',\n",
    "       'basketball_km', 'hospice_morgue_km', 'detention_facility_km',\n",
    "       'public_healthcare_km', 'university_km', 'workplaces_km',\n",
    "       'shopping_centers_km', 'office_km', 'additional_education_km',\n",
    "       'preschool_km', 'big_church_km', 'church_synagogue_km', 'mosque_km',\n",
    "       'theater_km', 'museum_km', 'exhibition_km', 'catering_km',\n",
    "       'green_part_500', 'prom_part_500', 'office_count_500', 'office_sqm_500',\n",
    "       'trc_count_500', 'trc_sqm_500', 'cafe_count_500',\n",
    "       'cafe_count_500_na_price', 'cafe_count_500_price_500',\n",
    "       'cafe_count_500_price_1000', 'cafe_count_500_price_1500',\n",
    "       'cafe_count_500_price_2500', 'cafe_count_500_price_4000',\n",
    "       'cafe_count_500_price_high', 'big_church_count_500', 'church_count_500',\n",
    "       'mosque_count_500', 'leisure_count_500', 'sport_count_500',\n",
    "       'market_count_500', 'green_part_1000', 'prom_part_1000',\n",
    "       'office_count_1000', 'office_sqm_1000', 'trc_count_1000',\n",
    "       'trc_sqm_1000', 'cafe_count_1000', 'cafe_count_1000_na_price',\n",
    "       'cafe_count_1000_price_500', 'cafe_count_1000_price_1000',\n",
    "       'cafe_count_1000_price_1500', 'cafe_count_1000_price_2500',\n",
    "       'cafe_count_1000_price_4000', 'cafe_count_1000_price_high',\n",
    "       'big_church_count_1000', 'church_count_1000', 'mosque_count_1000',\n",
    "       'leisure_count_1000', 'sport_count_1000', 'market_count_1000',\n",
    "       'green_part_1500', 'prom_part_1500', 'office_count_1500',\n",
    "       'office_sqm_1500', 'trc_count_1500', 'trc_sqm_1500', 'cafe_count_1500',\n",
    "       'cafe_count_1500_na_price', 'cafe_count_1500_price_500',\n",
    "       'cafe_count_1500_price_1000', 'cafe_count_1500_price_1500',\n",
    "       'cafe_count_1500_price_2500', 'cafe_count_1500_price_4000',\n",
    "       'cafe_count_1500_price_high', 'big_church_count_1500',\n",
    "       'church_count_1500', 'mosque_count_1500', 'leisure_count_1500',\n",
    "       'sport_count_1500', 'market_count_1500',\n",
    "       'prom_part_2000', 'office_count_2000', 'office_sqm_2000',\n",
    "       'trc_count_2000', 'trc_sqm_2000', 'cafe_count_2000',\n",
    "       'cafe_count_2000_na_price', 'cafe_count_2000_price_500',\n",
    "       'cafe_count_2000_price_1000', 'cafe_count_2000_price_1500',\n",
    "       'cafe_count_2000_price_2500', 'cafe_count_2000_price_4000',\n",
    "       'cafe_count_2000_price_high', 'big_church_count_2000',\n",
    "       'church_count_2000', 'mosque_count_2000', 'leisure_count_2000',\n",
    "       'sport_count_2000', 'market_count_2000', 'green_part_3000',\n",
    "       'prom_part_3000', 'office_count_3000', 'office_sqm_3000',\n",
    "       'trc_count_3000', 'trc_sqm_3000', 'cafe_count_3000',\n",
    "       'cafe_count_3000_na_price', 'cafe_count_3000_price_500',\n",
    "       'cafe_count_3000_price_1000', 'cafe_count_3000_price_1500',\n",
    "       'cafe_count_3000_price_2500', 'cafe_count_3000_price_4000',\n",
    "       'cafe_count_3000_price_high', 'big_church_count_3000',\n",
    "       'church_count_3000', 'mosque_count_3000', 'leisure_count_3000',\n",
    "       'sport_count_3000', 'market_count_3000', 'green_part_5000',\n",
    "       'office_count_5000', 'office_sqm_5000', 'trc_count_5000',\n",
    "       'trc_sqm_5000', 'cafe_count_5000', 'cafe_count_5000_na_price',\n",
    "       'cafe_count_5000_price_500', 'cafe_count_5000_price_1000',\n",
    "       'cafe_count_5000_price_1500', 'cafe_count_5000_price_2500',\n",
    "       'cafe_count_5000_price_4000', 'cafe_count_5000_price_high',\n",
    "       'big_church_count_5000', 'church_count_5000', 'mosque_count_5000',\n",
    "       'leisure_count_5000', 'sport_count_5000', 'market_count_5000','price_doc']]\n",
    "test_1=test[['id', 'timestamp', 'full_sq', 'area_m','product_type',\n",
    "       'raion_popul', 'green_zone_part', 'indust_part', 'children_preschool',\n",
    "       'preschool_education_centers_raion', 'children_school',\n",
    "       'school_education_centers_raion',\n",
    "       'school_education_centers_top_20_raion', 'healthcare_centers_raion',\n",
    "       'university_top_20_raion', 'sport_objects_raion',\n",
    "       'additional_education_raion',\n",
    "       'culture_objects_top_25_raion', 'shopping_centers_raion',\n",
    "       'office_raion',\n",
    "       'full_all', 'male_f', 'female_f', 'young_all', 'young_male',\n",
    "       'young_female', 'work_all', 'work_male', 'work_female', 'ekder_all',\n",
    "       'ekder_male', 'ekder_female', '0_6_all', '0_6_male', '0_6_female',\n",
    "       '7_14_all', '7_14_male', '7_14_female', '0_17_all', '0_17_male',\n",
    "       '0_17_female', '16_29_all', '16_29_male', '16_29_female', '0_13_all',\n",
    "       '0_13_male', '0_13_female', 'ID_metro', 'metro_min_avto',\n",
    "       'metro_km_avto', 'kindergarten_km', 'school_km', 'park_km',\n",
    "       'green_zone_km', 'industrial_km', 'water_treatment_km', 'cemetery_km',\n",
    "       'incineration_km', 'railroad_station_avto_km',\n",
    "       'railroad_station_avto_min', 'ID_railroad_station_avto',\n",
    "       'public_transport_station_km', 'public_transport_station_min_walk',\n",
    "       'water_km', 'mkad_km', 'ttk_km', 'sadovoe_km',\n",
    "       'bulvar_ring_km', 'kremlin_km', 'big_road1_km', 'ID_big_road1', 'big_road2_km', 'ID_big_road2', 'railroad_km', 'zd_vokzaly_avto_km', 'ID_railroad_terminal',\n",
    "       'bus_terminal_avto_km', 'ID_bus_terminal', 'oil_chemistry_km',\n",
    "       'nuclear_reactor_km', 'radiation_km', 'power_transmission_line_km',\n",
    "       'thermal_power_plant_km', 'ts_km', 'big_market_km', 'market_shop_km',\n",
    "       'fitness_km', 'swim_pool_km', 'ice_rink_km', 'stadium_km',\n",
    "       'basketball_km', 'hospice_morgue_km', 'detention_facility_km',\n",
    "       'public_healthcare_km', 'university_km', 'workplaces_km',\n",
    "       'shopping_centers_km', 'office_km', 'additional_education_km',\n",
    "       'preschool_km', 'big_church_km', 'church_synagogue_km', 'mosque_km',\n",
    "       'theater_km', 'museum_km', 'exhibition_km', 'catering_km',\n",
    "       'green_part_500', 'prom_part_500', 'office_count_500', 'office_sqm_500',\n",
    "       'trc_count_500', 'trc_sqm_500', 'cafe_count_500',\n",
    "       'cafe_count_500_na_price', 'cafe_count_500_price_500',\n",
    "       'cafe_count_500_price_1000', 'cafe_count_500_price_1500',\n",
    "       'cafe_count_500_price_2500', 'cafe_count_500_price_4000',\n",
    "       'cafe_count_500_price_high', 'big_church_count_500', 'church_count_500',\n",
    "       'mosque_count_500', 'leisure_count_500', 'sport_count_500',\n",
    "       'market_count_500', 'green_part_1000', 'prom_part_1000',\n",
    "       'office_count_1000', 'office_sqm_1000', 'trc_count_1000',\n",
    "       'trc_sqm_1000', 'cafe_count_1000', 'cafe_count_1000_na_price',\n",
    "       'cafe_count_1000_price_500', 'cafe_count_1000_price_1000',\n",
    "       'cafe_count_1000_price_1500', 'cafe_count_1000_price_2500',\n",
    "       'cafe_count_1000_price_4000', 'cafe_count_1000_price_high',\n",
    "       'big_church_count_1000', 'church_count_1000', 'mosque_count_1000',\n",
    "       'leisure_count_1000', 'sport_count_1000', 'market_count_1000',\n",
    "       'green_part_1500', 'prom_part_1500', 'office_count_1500',\n",
    "       'office_sqm_1500', 'trc_count_1500', 'trc_sqm_1500', 'cafe_count_1500',\n",
    "       'cafe_count_1500_na_price', 'cafe_count_1500_price_500',\n",
    "       'cafe_count_1500_price_1000', 'cafe_count_1500_price_1500',\n",
    "       'cafe_count_1500_price_2500', 'cafe_count_1500_price_4000',\n",
    "       'cafe_count_1500_price_high', 'big_church_count_1500',\n",
    "       'church_count_1500', 'mosque_count_1500', 'leisure_count_1500',\n",
    "       'sport_count_1500', 'market_count_1500',\n",
    "       'prom_part_2000', 'office_count_2000', 'office_sqm_2000',\n",
    "       'trc_count_2000', 'trc_sqm_2000', 'cafe_count_2000',\n",
    "       'cafe_count_2000_na_price', 'cafe_count_2000_price_500',\n",
    "       'cafe_count_2000_price_1000', 'cafe_count_2000_price_1500',\n",
    "       'cafe_count_2000_price_2500', 'cafe_count_2000_price_4000',\n",
    "       'cafe_count_2000_price_high', 'big_church_count_2000',\n",
    "       'church_count_2000', 'mosque_count_2000', 'leisure_count_2000',\n",
    "       'sport_count_2000', 'market_count_2000', 'green_part_3000',\n",
    "       'prom_part_3000', 'office_count_3000', 'office_sqm_3000',\n",
    "       'trc_count_3000', 'trc_sqm_3000', 'cafe_count_3000',\n",
    "       'cafe_count_3000_na_price', 'cafe_count_3000_price_500',\n",
    "       'cafe_count_3000_price_1000', 'cafe_count_3000_price_1500',\n",
    "       'cafe_count_3000_price_2500', 'cafe_count_3000_price_4000',\n",
    "       'cafe_count_3000_price_high', 'big_church_count_3000',\n",
    "       'church_count_3000', 'mosque_count_3000', 'leisure_count_3000',\n",
    "       'sport_count_3000', 'market_count_3000', 'green_part_5000',\n",
    "       'office_count_5000', 'office_sqm_5000', 'trc_count_5000',\n",
    "       'trc_sqm_5000', 'cafe_count_5000', 'cafe_count_5000_na_price',\n",
    "       'cafe_count_5000_price_500', 'cafe_count_5000_price_1000',\n",
    "       'cafe_count_5000_price_1500', 'cafe_count_5000_price_2500',\n",
    "       'cafe_count_5000_price_4000', 'cafe_count_5000_price_high',\n",
    "       'big_church_count_5000', 'church_count_5000', 'mosque_count_5000',\n",
    "       'leisure_count_5000', 'sport_count_5000', 'market_count_5000']]\n",
    "\n",
    "\n",
    "macro_1=macro[['timestamp','oil_urals','gdp_annual','gdp_annual_growth','average_provision_of_build_contract',\n",
    "'deposits_value','mortgage_value','mortgage_rate','fixed_basket']]\n",
    "\n",
    "\n",
    "#将类别变量变换为哑变量\n",
    "dummies = pd.get_dummies(train_1['product_type'], prefix='product_type')\n",
    "train_1=train_1.join(dummies).drop('product_type',axis=1)\n",
    "\n",
    "dummies = pd.get_dummies(test_1['product_type'], prefix='product_type')\n",
    "test_1=test_1.join(dummies).drop('product_type',axis=1)\n",
    "\n",
    "\n",
    "# train.columns\n",
    "# print(train.head(5))\n",
    "# print(train.isnull().sum())\n",
    "# print('macro shape:',macro.shape)\n",
    "# print(macro.isnull().sum())\n",
    "# train.state.unique()\n",
    "# train.dtypes\n",
    "# macro.dtypes\n",
    "# macro.head(5)\n",
    "# test_1.isnull().sum()\n",
    "# macro.isnull().sum()"
   ]
  },
  {
   "cell_type": "code",
   "execution_count": 220,
   "metadata": {
    "collapsed": false,
    "scrolled": true
   },
   "outputs": [],
   "source": [
    "train_withmacro=pd.merge(train_1,macro_1,on='timestamp')\n",
    "test_withmacro=pd.merge(test_1,macro_1,on='timestamp')\n",
    "samples_y=train_withmacro['price_doc']\n",
    "samples_x=train_withmacro.drop(['price_doc'],axis=1)"
   ]
  },
  {
   "cell_type": "code",
   "execution_count": 221,
   "metadata": {
    "collapsed": true,
    "scrolled": true
   },
   "outputs": [],
   "source": [
    "from sklearn.cross_validation import train_test_split\n",
    "temp_x,test_x,temp_y,test_y=train_test_split(samples_x,samples_y,test_size=0.25,random_state=42)\n",
    "train_x,validation_x,train_y,validation_y=train_test_split(temp_x,temp_y,test_size=0.5,random_state=42)\n"
   ]
  },
  {
   "cell_type": "code",
   "execution_count": 222,
   "metadata": {
    "collapsed": false,
    "scrolled": true
   },
   "outputs": [
    {
     "data": {
      "text/plain": [
       "RidgeCV(alphas=array([  1.00000e-10,   1.09699e-10, ...,   9.11589e-03,   1.00000e-02]),\n",
       "    cv=None, fit_intercept=True, gcv_mode='auto', normalize=True,\n",
       "    scoring=None, store_cv_values=True)"
      ]
     },
     "execution_count": 222,
     "metadata": {},
     "output_type": "execute_result"
    }
   ],
   "source": [
    "#fit, using RidgeCV and lasso regression\n",
    "\n",
    "from sklearn import linear_model\n",
    "n_alphas = 200\n",
    "alphas = np.logspace(-10, -2, n_alphas)\n",
    "\n",
    "# clf = linear_model.Ridge()   #need to compare with ridge model\n",
    "clf = linear_model.RidgeCV(alphas=alphas,fit_intercept=True,gcv_mode='auto',store_cv_values=True,normalize=True)   #fit_intercept=False, try all parameters\n",
    "clf.fit(train_x.drop(['id','timestamp'], axis=1),train_y)\n"
   ]
  },
  {
   "cell_type": "code",
   "execution_count": 223,
   "metadata": {
    "collapsed": false,
    "scrolled": true
   },
   "outputs": [
    {
     "name": "stdout",
     "output_type": "stream",
     "text": [
      "the score for train set itself: 0.319171732397\n",
      "the score for validation set: 0.324766649981\n",
      "the score for test set: 0.326876499843\n"
     ]
    }
   ],
   "source": [
    "#cross validation evaluation\n",
    "# print (clf.get_params(deep=True))\n",
    "print ('the score for train set itself:',clf.score(train_x.drop(['id','timestamp'], axis=1),train_y))\n",
    "print ('the score for validation set:',clf.score(validation_x.drop(['id','timestamp'], axis=1),validation_y))\n",
    "print ('the score for test set:',clf.score(test_x.drop(['id','timestamp'], axis=1),test_y))"
   ]
  },
  {
   "cell_type": "code",
   "execution_count": null,
   "metadata": {
    "collapsed": true
   },
   "outputs": [],
   "source": [
    "# output the prediction\n"
   ]
  },
  {
   "cell_type": "code",
   "execution_count": 83,
   "metadata": {
    "collapsed": true,
    "scrolled": true
   },
   "outputs": [
    {
     "name": "stdout",
     "output_type": "stream",
     "text": [
      "(11426, 390)\n",
      "(11426,)\n",
      "(11427, 390)\n",
      "(11427,)\n",
      "(7618, 390)\n",
      "(7618,)\n",
      "Your sklearn version is 0.17.1\n"
     ]
    }
   ],
   "source": [
    "print(train_x.shape)\n",
    "print(train_y.shape)\n",
    "print(validation_x.shape)\n",
    "print(validation_y.shape)\n",
    "print(test_x.shape)\n",
    "print(test_y.shape)\n",
    "import sklearn\n",
    "print('Your sklearn version is {}'.format(sklearn.__version__))"
   ]
  },
  {
   "cell_type": "code",
   "execution_count": 15,
   "metadata": {
    "collapsed": false,
    "scrolled": true
   },
   "outputs": [
    {
     "data": {
      "text/plain": [
       "0"
      ]
     },
     "execution_count": 15,
     "metadata": {},
     "output_type": "execute_result"
    }
   ],
   "source": [
    "sample_submission\n",
    "sample_submission.head(5)\n",
    "type(train.isnull().sum())\n",
    "result=train.isnull().sum()\n",
    "result[2]"
   ]
  },
  {
   "cell_type": "code",
   "execution_count": 197,
   "metadata": {
    "collapsed": false,
    "scrolled": false
   },
   "outputs": [],
   "source": [
    "# print ((temp[temp['numberofNA']==0]))\n",
    "# train.dtypes"
   ]
  },
  {
   "cell_type": "code",
   "execution_count": 186,
   "metadata": {
    "collapsed": false
   },
   "outputs": [
    {
     "data": {
      "text/html": [
       "<div>\n",
       "<table border=\"1\" class=\"dataframe\">\n",
       "  <thead>\n",
       "    <tr style=\"text-align: right;\">\n",
       "      <th></th>\n",
       "      <th>data1</th>\n",
       "      <th>key_a</th>\n",
       "      <th>key_b</th>\n",
       "      <th>key_c</th>\n",
       "    </tr>\n",
       "  </thead>\n",
       "  <tbody>\n",
       "    <tr>\n",
       "      <th>0</th>\n",
       "      <td>0</td>\n",
       "      <td>0.0</td>\n",
       "      <td>1.0</td>\n",
       "      <td>0.0</td>\n",
       "    </tr>\n",
       "    <tr>\n",
       "      <th>1</th>\n",
       "      <td>1</td>\n",
       "      <td>0.0</td>\n",
       "      <td>1.0</td>\n",
       "      <td>0.0</td>\n",
       "    </tr>\n",
       "    <tr>\n",
       "      <th>2</th>\n",
       "      <td>2</td>\n",
       "      <td>1.0</td>\n",
       "      <td>0.0</td>\n",
       "      <td>0.0</td>\n",
       "    </tr>\n",
       "    <tr>\n",
       "      <th>3</th>\n",
       "      <td>3</td>\n",
       "      <td>0.0</td>\n",
       "      <td>0.0</td>\n",
       "      <td>1.0</td>\n",
       "    </tr>\n",
       "    <tr>\n",
       "      <th>4</th>\n",
       "      <td>4</td>\n",
       "      <td>1.0</td>\n",
       "      <td>0.0</td>\n",
       "      <td>0.0</td>\n",
       "    </tr>\n",
       "    <tr>\n",
       "      <th>5</th>\n",
       "      <td>5</td>\n",
       "      <td>0.0</td>\n",
       "      <td>1.0</td>\n",
       "      <td>0.0</td>\n",
       "    </tr>\n",
       "  </tbody>\n",
       "</table>\n",
       "</div>"
      ],
      "text/plain": [
       "   data1  key_a  key_b  key_c\n",
       "0      0    0.0    1.0    0.0\n",
       "1      1    0.0    1.0    0.0\n",
       "2      2    1.0    0.0    0.0\n",
       "3      3    0.0    0.0    1.0\n",
       "4      4    1.0    0.0    0.0\n",
       "5      5    0.0    1.0    0.0"
      ]
     },
     "execution_count": 186,
     "metadata": {},
     "output_type": "execute_result"
    }
   ],
   "source": [
    "# df['key']\n",
    "dummies = pd.get_dummies(df['key'], prefix='key')\n",
    "df_with_dummy = df[['data1']].join(dummies)\n",
    "df_with_dummy\n",
    "# dummies\n",
    "# df[['data1']]"
   ]
  },
  {
   "cell_type": "code",
   "execution_count": null,
   "metadata": {
    "collapsed": true
   },
   "outputs": [],
   "source": []
  }
 ],
 "metadata": {
  "anaconda-cloud": {},
  "kernelspec": {
   "display_name": "Python [conda root]",
   "language": "python",
   "name": "conda-root-py"
  },
  "language_info": {
   "codemirror_mode": {
    "name": "ipython",
    "version": 3
   },
   "file_extension": ".py",
   "mimetype": "text/x-python",
   "name": "python",
   "nbconvert_exporter": "python",
   "pygments_lexer": "ipython3",
   "version": "3.5.2"
  }
 },
 "nbformat": 4,
 "nbformat_minor": 1
}
